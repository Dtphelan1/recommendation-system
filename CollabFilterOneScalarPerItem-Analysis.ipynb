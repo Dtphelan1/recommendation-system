{
 "cells": [
  {
   "cell_type": "markdown",
   "metadata": {},
   "source": [
    "# Train & Analysis of Linear model"
   ]
  },
  {
   "cell_type": "code",
   "execution_count": 1,
   "metadata": {},
   "outputs": [],
   "source": [
    "# Make sure you use the autograd version of numpy (which we named 'ag_np')\n",
    "# to do all the loss calculations, since automatic gradients are needed\n",
    "import autograd.numpy as ag_np\n",
    "\n",
    "# Use helper packages\n",
    "from AbstractBaseCollabFilterSGD import AbstractBaseCollabFilterSGD\n",
    "from train_valid_test_loader import load_train_valid_test_datasets\n",
    "\n",
    "# Some packages you might need (uncomment as necessary)\n",
    "import pandas as pd\n",
    "import matplotlib.pyplot as plt\n",
    "\n",
    "from CollabFilterOneScalarPerItem import CollabFilterOneScalarPerItem"
   ]
  },
  {
   "cell_type": "code",
   "execution_count": 2,
   "metadata": {},
   "outputs": [
    {
     "name": "stdout",
     "output_type": "stream",
     "text": [
      "epoch       0.000 | loss_total     0.00136 | train_MAE     3.53059 | valid_MAE     3.54504 | grad_wrt_mu     0.00070 | grad_wrt_b_per_user     0.00000 | grad_wrt_c_per_item     0.00000\n",
      "epoch       0.143 | loss_total     0.00138 | train_MAE     3.53052 | valid_MAE     3.54497 | grad_wrt_mu     0.00071 | grad_wrt_b_per_user     0.00000 | grad_wrt_c_per_item     0.00000\n",
      "epoch       0.286 | loss_total     0.00138 | train_MAE     3.53044 | valid_MAE     3.54489 | grad_wrt_mu     0.00071 | grad_wrt_b_per_user     0.00000 | grad_wrt_c_per_item     0.00000\n",
      "epoch       0.429 | loss_total     0.00136 | train_MAE     3.53037 | valid_MAE     3.54482 | grad_wrt_mu     0.00070 | grad_wrt_b_per_user     0.00000 | grad_wrt_c_per_item     0.00000\n",
      "epoch       0.571 | loss_total     0.00137 | train_MAE     3.53030 | valid_MAE     3.54475 | grad_wrt_mu     0.00070 | grad_wrt_b_per_user     0.00000 | grad_wrt_c_per_item     0.00000\n",
      "epoch       0.714 | loss_total     0.00137 | train_MAE     3.53023 | valid_MAE     3.54468 | grad_wrt_mu     0.00071 | grad_wrt_b_per_user     0.00000 | grad_wrt_c_per_item     0.00000\n",
      "epoch       0.857 | loss_total     0.00138 | train_MAE     3.53016 | valid_MAE     3.54461 | grad_wrt_mu     0.00071 | grad_wrt_b_per_user     0.00000 | grad_wrt_c_per_item     0.00000\n",
      "epoch       1.000 | loss_total     0.00137 | train_MAE     3.53009 | valid_MAE     3.54454 | grad_wrt_mu     0.00071 | grad_wrt_b_per_user     0.00000 | grad_wrt_c_per_item     0.00000\n",
      "epoch       1.143 | loss_total     0.00138 | train_MAE     3.53002 | valid_MAE     3.54447 | grad_wrt_mu     0.00071 | grad_wrt_b_per_user     0.00000 | grad_wrt_c_per_item     0.00000\n",
      "epoch       1.286 | loss_total     0.00137 | train_MAE     3.52995 | valid_MAE     3.54440 | grad_wrt_mu     0.00071 | grad_wrt_b_per_user     0.00000 | grad_wrt_c_per_item     0.00000\n",
      "epoch       1.429 | loss_total     0.00138 | train_MAE     3.52988 | valid_MAE     3.54433 | grad_wrt_mu     0.00071 | grad_wrt_b_per_user     0.00000 | grad_wrt_c_per_item     0.00000\n",
      "epoch       1.571 | loss_total     0.00138 | train_MAE     3.52981 | valid_MAE     3.54426 | grad_wrt_mu     0.00071 | grad_wrt_b_per_user     0.00000 | grad_wrt_c_per_item     0.00000\n",
      "epoch       1.714 | loss_total     0.00136 | train_MAE     3.52974 | valid_MAE     3.54419 | grad_wrt_mu     0.00070 | grad_wrt_b_per_user     0.00000 | grad_wrt_c_per_item     0.00000\n",
      "epoch       1.857 | loss_total     0.00137 | train_MAE     3.52966 | valid_MAE     3.54411 | grad_wrt_mu     0.00071 | grad_wrt_b_per_user     0.00000 | grad_wrt_c_per_item     0.00000\n",
      "epoch       2.000 | loss_total     0.00138 | train_MAE     3.52959 | valid_MAE     3.54404 | grad_wrt_mu     0.00071 | grad_wrt_b_per_user     0.00000 | grad_wrt_c_per_item     0.00000\n",
      "epoch       2.571 | loss_total     0.00137 | train_MAE     3.52931 | valid_MAE     3.54376 | grad_wrt_mu     0.00070 | grad_wrt_b_per_user     0.00000 | grad_wrt_c_per_item     0.00000\n",
      "epoch       3.000 | loss_total     0.00137 | train_MAE     3.52910 | valid_MAE     3.54355 | grad_wrt_mu     0.00070 | grad_wrt_b_per_user     0.00000 | grad_wrt_c_per_item     0.00000\n",
      "epoch       3.571 | loss_total     0.00137 | train_MAE     3.52881 | valid_MAE     3.54326 | grad_wrt_mu     0.00071 | grad_wrt_b_per_user     0.00000 | grad_wrt_c_per_item     0.00000\n",
      "epoch       4.000 | loss_total     0.00137 | train_MAE     3.52860 | valid_MAE     3.54305 | grad_wrt_mu     0.00071 | grad_wrt_b_per_user     0.00000 | grad_wrt_c_per_item     0.00000\n",
      "epoch       4.571 | loss_total     0.00137 | train_MAE     3.52832 | valid_MAE     3.54277 | grad_wrt_mu     0.00071 | grad_wrt_b_per_user     0.00000 | grad_wrt_c_per_item     0.00000\n",
      "epoch       5.000 | loss_total     0.00137 | train_MAE     3.52811 | valid_MAE     3.54256 | grad_wrt_mu     0.00071 | grad_wrt_b_per_user     0.00000 | grad_wrt_c_per_item     0.00000\n",
      "epoch       5.571 | loss_total     0.00137 | train_MAE     3.52782 | valid_MAE     3.54227 | grad_wrt_mu     0.00070 | grad_wrt_b_per_user     0.00000 | grad_wrt_c_per_item     0.00000\n",
      "epoch       6.000 | loss_total     0.00137 | train_MAE     3.52761 | valid_MAE     3.54206 | grad_wrt_mu     0.00071 | grad_wrt_b_per_user     0.00000 | grad_wrt_c_per_item     0.00000\n",
      "epoch       6.571 | loss_total     0.00137 | train_MAE     3.52733 | valid_MAE     3.54178 | grad_wrt_mu     0.00070 | grad_wrt_b_per_user     0.00000 | grad_wrt_c_per_item     0.00000\n",
      "epoch       7.000 | loss_total     0.00137 | train_MAE     3.52711 | valid_MAE     3.54156 | grad_wrt_mu     0.00071 | grad_wrt_b_per_user     0.00000 | grad_wrt_c_per_item     0.00000\n",
      "epoch       7.571 | loss_total     0.00137 | train_MAE     3.52683 | valid_MAE     3.54128 | grad_wrt_mu     0.00071 | grad_wrt_b_per_user     0.00000 | grad_wrt_c_per_item     0.00000\n",
      "epoch       8.000 | loss_total     0.00137 | train_MAE     3.52662 | valid_MAE     3.54107 | grad_wrt_mu     0.00071 | grad_wrt_b_per_user     0.00000 | grad_wrt_c_per_item     0.00000\n",
      "epoch       9.000 | loss_total     0.00137 | train_MAE     3.52612 | valid_MAE     3.54057 | grad_wrt_mu     0.00071 | grad_wrt_b_per_user     0.00000 | grad_wrt_c_per_item     0.00000\n",
      "epoch       9.857 | loss_total     0.00137 | train_MAE     3.52570 | valid_MAE     3.54015 | grad_wrt_mu     0.00071 | grad_wrt_b_per_user     0.00000 | grad_wrt_c_per_item     0.00000\n"
     ]
    }
   ],
   "source": [
    "# Load the dataset\n",
    "train_tuple, valid_tuple, test_tuple, n_users, n_items = \\\n",
    "    load_train_valid_test_datasets()\n",
    "# Create the model and initialize its parameters\n",
    "# to have right scale as the dataset (right num users and items)\n",
    "model = CollabFilterOneScalarPerItem(\n",
    "    n_epochs=10, batch_size=10000, step_size=0.1)\n",
    "model.init_parameter_dict(n_users, n_items, train_tuple)\n",
    "\n",
    "# Fit the model with SGD\n",
    "model.fit(train_tuple, valid_tuple)"
   ]
  },
  {
   "cell_type": "code",
   "execution_count": 3,
   "metadata": {},
   "outputs": [
    {
     "name": "stdout",
     "output_type": "stream",
     "text": [
      "Final mu = 0.004939398335313037\n",
      "Final Train MAE = 3.525698645216429\n",
      "Final Valid MAE = 3.540149146595135\n"
     ]
    }
   ],
   "source": [
    "final_mu = model.param_dict['mu'][0]\n",
    "print(f\"Final mu = {final_mu}\")\n",
    "print(f\"Final Train MAE = {model.trace_mae_train[-1]}\")\n",
    "print(f\"Final Valid MAE = {model.trace_mae_valid[-1]}\")"
   ]
  },
  {
   "cell_type": "code",
   "execution_count": 4,
   "metadata": {},
   "outputs": [
    {
     "name": "stdout",
     "output_type": "stream",
     "text": [
      "Final Test MAE = 3.5012422696057803\n"
     ]
    }
   ],
   "source": [
    "test_y = test_tuple[2]\n",
    "final_b_per_user = model.param_dict['b_per_user']\n",
    "final_c_per_item = model.param_dict['c_per_item']\n",
    "test_yhat = model.predict(test_tuple[0], test_tuple[1], mu=final_mu, b_per_user=final_b_per_user, c_per_item=final_c_per_item)\n",
    "test_mae = ag_np.mean(ag_np.absolute(test_y - test_yhat))\n",
    "print(f\"Final Test MAE = {test_mae}\")"
   ]
  },
  {
   "cell_type": "code",
   "execution_count": 5,
   "metadata": {},
   "outputs": [],
   "source": [
    "epochs = ag_np.array(model.trace_epoch)\n",
    "epochs_of_interest = ag_np.argwhere(epochs >= 2.0)"
   ]
  },
  {
   "cell_type": "code",
   "execution_count": 6,
   "metadata": {},
   "outputs": [],
   "source": [
    "train_loss = ag_np.array(model.trace_mae_train)[epochs_of_interest]\n",
    "valid_loss = ag_np.array( model.trace_mae_valid)[epochs_of_interest]"
   ]
  },
  {
   "cell_type": "code",
   "execution_count": 7,
   "metadata": {},
   "outputs": [
    {
     "data": {
      "text/plain": [
       "Text(0.5, 1.0, 'Scalar Baseline Model Loss over Epochs, Batch Size = 10000')"
      ]
     },
     "execution_count": 7,
     "metadata": {},
     "output_type": "execute_result"
    },
    {
     "data": {
      "image/png": "[encoded data removed]",
      "text/plain": [
       "<Figure size 432x288 with 1 Axes>"
      ]
     },
     "metadata": {
      "needs_background": "light"
     },
     "output_type": "display_data"
    }
   ],
   "source": [
    "plt.plot( epochs[epochs_of_interest], train_loss, 'b.-', label='Train set loss')\n",
    "plt.plot( epochs[epochs_of_interest], valid_loss, 'g.-', label='Validation set loss')\n",
    "plt.legend()\n",
    "plt.xlabel('Epochs')\n",
    "plt.ylabel('MAE Loss')\n",
    "plt.title('Scalar Baseline Model Loss over Epochs, Batch Size = 10000')"
   ]
  },
  {
   "cell_type": "markdown",
   "metadata": {},
   "source": [
    "## Smaller batch this time"
   ]
  },
  {
   "cell_type": "code",
   "execution_count": 8,
   "metadata": {},
   "outputs": [
    {
     "name": "stdout",
     "output_type": "stream",
     "text": [
      "epoch       0.000 | loss_total     0.13410 | train_MAE     3.53059 | valid_MAE     3.54504 | grad_wrt_mu     0.07020 | grad_wrt_b_per_user     0.00007 | grad_wrt_c_per_item     0.00004\n",
      "epoch       0.001 | loss_total     0.14179 | train_MAE     3.52354 | valid_MAE     3.53799 | grad_wrt_mu     0.07206 | grad_wrt_b_per_user     0.00008 | grad_wrt_c_per_item     0.00004\n",
      "epoch       0.003 | loss_total     0.13928 | train_MAE     3.51631 | valid_MAE     3.53076 | grad_wrt_mu     0.07111 | grad_wrt_b_per_user     0.00008 | grad_wrt_c_per_item     0.00004\n",
      "epoch       0.004 | loss_total     0.13290 | train_MAE     3.50917 | valid_MAE     3.52363 | grad_wrt_mu     0.06997 | grad_wrt_b_per_user     0.00007 | grad_wrt_c_per_item     0.00004\n",
      "epoch       0.126 | loss_total     0.11085 | train_MAE     2.96078 | valid_MAE     2.97526 | grad_wrt_mu     0.06300 | grad_wrt_b_per_user     0.00007 | grad_wrt_c_per_item     0.00004\n",
      "epoch       0.250 | loss_total     0.06929 | train_MAE     2.48922 | valid_MAE     2.50343 | grad_wrt_mu     0.04825 | grad_wrt_b_per_user     0.00005 | grad_wrt_c_per_item     0.00003\n",
      "epoch       0.376 | loss_total     0.05179 | train_MAE     2.13468 | valid_MAE     2.14663 | grad_wrt_mu     0.03957 | grad_wrt_b_per_user     0.00004 | grad_wrt_c_per_item     0.00002\n",
      "epoch       0.500 | loss_total     0.04462 | train_MAE     1.84400 | valid_MAE     1.85410 | grad_wrt_mu     0.03414 | grad_wrt_b_per_user     0.00004 | grad_wrt_c_per_item     0.00002\n",
      "epoch       0.626 | loss_total     0.02905 | train_MAE     1.61217 | valid_MAE     1.62084 | grad_wrt_mu     0.02854 | grad_wrt_b_per_user     0.00003 | grad_wrt_c_per_item     0.00002\n",
      "epoch       0.750 | loss_total     0.03003 | train_MAE     1.45818 | valid_MAE     1.46605 | grad_wrt_mu     0.02662 | grad_wrt_b_per_user     0.00003 | grad_wrt_c_per_item     0.00002\n",
      "epoch       0.876 | loss_total     0.02087 | train_MAE     1.32756 | valid_MAE     1.33475 | grad_wrt_mu     0.01702 | grad_wrt_b_per_user     0.00003 | grad_wrt_c_per_item     0.00001\n",
      "epoch       1.000 | loss_total     0.02023 | train_MAE     1.21832 | valid_MAE     1.22494 | grad_wrt_mu     0.01644 | grad_wrt_b_per_user     0.00003 | grad_wrt_c_per_item     0.00001\n",
      "epoch       1.126 | loss_total     0.01708 | train_MAE     1.12694 | valid_MAE     1.13309 | grad_wrt_mu     0.01645 | grad_wrt_b_per_user     0.00002 | grad_wrt_c_per_item     0.00001\n",
      "epoch       1.250 | loss_total     0.01510 | train_MAE     1.05140 | valid_MAE     1.05716 | grad_wrt_mu     0.01313 | grad_wrt_b_per_user     0.00002 | grad_wrt_c_per_item     0.00001\n",
      "epoch       1.376 | loss_total     0.01533 | train_MAE     0.99869 | valid_MAE     1.00391 | grad_wrt_mu     0.00995 | grad_wrt_b_per_user     0.00002 | grad_wrt_c_per_item     0.00001\n",
      "epoch       1.500 | loss_total     0.01522 | train_MAE     0.98935 | valid_MAE     0.99376 | grad_wrt_mu     0.01148 | grad_wrt_b_per_user     0.00002 | grad_wrt_c_per_item     0.00001\n",
      "epoch       1.626 | loss_total     0.01569 | train_MAE     0.98185 | valid_MAE     0.98561 | grad_wrt_mu     0.00771 | grad_wrt_b_per_user     0.00002 | grad_wrt_c_per_item     0.00001\n",
      "epoch       1.750 | loss_total     0.01350 | train_MAE     0.97553 | valid_MAE     0.97876 | grad_wrt_mu     0.00659 | grad_wrt_b_per_user     0.00002 | grad_wrt_c_per_item     0.00001\n",
      "epoch       1.876 | loss_total     0.01252 | train_MAE     0.97010 | valid_MAE     0.97287 | grad_wrt_mu     0.00344 | grad_wrt_b_per_user     0.00002 | grad_wrt_c_per_item     0.00001\n",
      "epoch       2.000 | loss_total     0.01303 | train_MAE     0.96561 | valid_MAE     0.96800 | grad_wrt_mu     0.00623 | grad_wrt_b_per_user     0.00002 | grad_wrt_c_per_item     0.00001\n",
      "epoch       2.500 | loss_total     0.01323 | train_MAE     0.95368 | valid_MAE     0.95510 | grad_wrt_mu     0.00431 | grad_wrt_b_per_user     0.00002 | grad_wrt_c_per_item     0.00001\n",
      "epoch       3.000 | loss_total     0.01275 | train_MAE     0.94698 | valid_MAE     0.94788 | grad_wrt_mu     0.00138 | grad_wrt_b_per_user     0.00002 | grad_wrt_c_per_item     0.00001\n",
      "epoch       3.500 | loss_total     0.01262 | train_MAE     0.94382 | valid_MAE     0.94451 | grad_wrt_mu     0.00131 | grad_wrt_b_per_user     0.00002 | grad_wrt_c_per_item     0.00001\n",
      "epoch       4.000 | loss_total     0.01259 | train_MAE     0.94192 | valid_MAE     0.94253 | grad_wrt_mu     0.00102 | grad_wrt_b_per_user     0.00002 | grad_wrt_c_per_item     0.00001\n",
      "epoch       4.500 | loss_total     0.01255 | train_MAE     0.94068 | valid_MAE     0.94125 | grad_wrt_mu     0.00451 | grad_wrt_b_per_user     0.00002 | grad_wrt_c_per_item     0.00001\n",
      "epoch       5.000 | loss_total     0.01256 | train_MAE     0.94018 | valid_MAE     0.94079 | grad_wrt_mu     0.00170 | grad_wrt_b_per_user     0.00002 | grad_wrt_c_per_item     0.00001\n",
      "epoch       5.500 | loss_total     0.01256 | train_MAE     0.93973 | valid_MAE     0.94037 | grad_wrt_mu     0.00366 | grad_wrt_b_per_user     0.00002 | grad_wrt_c_per_item     0.00001\n",
      "epoch       6.000 | loss_total     0.01253 | train_MAE     0.93900 | valid_MAE     0.93966 | grad_wrt_mu     0.00256 | grad_wrt_b_per_user     0.00002 | grad_wrt_c_per_item     0.00001\n",
      "epoch       6.500 | loss_total     0.01254 | train_MAE     0.93842 | valid_MAE     0.93910 | grad_wrt_mu     0.00180 | grad_wrt_b_per_user     0.00002 | grad_wrt_c_per_item     0.00001\n",
      "epoch       7.000 | loss_total     0.01251 | train_MAE     0.93800 | valid_MAE     0.93872 | grad_wrt_mu     0.00196 | grad_wrt_b_per_user     0.00002 | grad_wrt_c_per_item     0.00001\n",
      "epoch       7.500 | loss_total     0.01247 | train_MAE     0.93764 | valid_MAE     0.93840 | grad_wrt_mu     0.00141 | grad_wrt_b_per_user     0.00002 | grad_wrt_c_per_item     0.00001\n",
      "epoch       8.000 | loss_total     0.01248 | train_MAE     0.93709 | valid_MAE     0.93788 | grad_wrt_mu     0.00362 | grad_wrt_b_per_user     0.00002 | grad_wrt_c_per_item     0.00001\n",
      "epoch       9.000 | loss_total     0.01247 | train_MAE     0.93610 | valid_MAE     0.93695 | grad_wrt_mu     0.00181 | grad_wrt_b_per_user     0.00002 | grad_wrt_c_per_item     0.00001\n",
      "epoch       9.999 | loss_total     0.01244 | train_MAE     0.93528 | valid_MAE     0.93621 | grad_wrt_mu     0.00414 | grad_wrt_b_per_user     0.00002 | grad_wrt_c_per_item     0.00001\n"
     ]
    }
   ],
   "source": [
    "# Load the dataset\n",
    "train_tuple, valid_tuple, test_tuple, n_users, n_items = \\\n",
    "    load_train_valid_test_datasets()\n",
    "# Create the model and initialize its parameters\n",
    "# to have right scale as the dataset (right num users and items)\n",
    "model = CollabFilterOneScalarPerItem(\n",
    "    n_epochs=10, batch_size=100, step_size=0.1)\n",
    "model.init_parameter_dict(n_users, n_items, train_tuple)\n",
    "\n",
    "# Fit the model with SGD\n",
    "model.fit(train_tuple, valid_tuple)"
   ]
  },
  {
   "cell_type": "code",
   "execution_count": 9,
   "metadata": {},
   "outputs": [
    {
     "name": "stdout",
     "output_type": "stream",
     "text": [
      "Final mu = 3.517453523061415\n",
      "Final Train MAE = 0.9352817175607294\n",
      "Final Valid MAE = 0.9362091831409901\n"
     ]
    }
   ],
   "source": [
    "final_mu = model.param_dict['mu'][0]\n",
    "print(f\"Final mu = {final_mu}\")\n",
    "print(f\"Final Train MAE = {model.trace_mae_train[-1]}\")\n",
    "print(f\"Final Valid MAE = {model.trace_mae_valid[-1]}\")"
   ]
  },
  {
   "cell_type": "code",
   "execution_count": 10,
   "metadata": {},
   "outputs": [
    {
     "name": "stdout",
     "output_type": "stream",
     "text": [
      "Final Test MAE = 0.9370563672409178\n"
     ]
    }
   ],
   "source": [
    "test_y = test_tuple[2]\n",
    "final_b_per_user = model.param_dict['b_per_user']\n",
    "final_c_per_item = model.param_dict['c_per_item']\n",
    "test_yhat = model.predict(test_tuple[0], test_tuple[1], mu=final_mu, b_per_user=final_b_per_user, c_per_item=final_c_per_item)\n",
    "test_mae = ag_np.mean(ag_np.absolute(test_y - test_yhat))\n",
    "print(f\"Final Test MAE = {test_mae}\")"
   ]
  },
  {
   "cell_type": "code",
   "execution_count": 11,
   "metadata": {},
   "outputs": [],
   "source": [
    "epochs = ag_np.array(model.trace_epoch)\n",
    "epochs_of_interest = ag_np.argwhere(epochs >= 2.0)"
   ]
  },
  {
   "cell_type": "code",
   "execution_count": 12,
   "metadata": {},
   "outputs": [],
   "source": [
    "train_loss = ag_np.array(model.trace_mae_train)[epochs_of_interest]\n",
    "valid_loss = ag_np.array( model.trace_mae_valid)[epochs_of_interest]"
   ]
  },
  {
   "cell_type": "code",
   "execution_count": 13,
   "metadata": {},
   "outputs": [
    {
     "data": {
      "text/plain": [
       "Text(0.5, 1.0, 'Scalar Baseline Model Loss over Epochs, Batch Size = 100')"
      ]
     },
     "execution_count": 13,
     "metadata": {},
     "output_type": "execute_result"
    },
    {
     "data": {
      "image/png": "[encoded data removed]",
      "text/plain": [
       "<Figure size 432x288 with 1 Axes>"
      ]
     },
     "metadata": {
      "needs_background": "light"
     },
     "output_type": "display_data"
    }
   ],
   "source": [
    "plt.plot( epochs[epochs_of_interest], train_loss, 'b.-', label='Train set loss')\n",
    "plt.plot( epochs[epochs_of_interest], valid_loss, 'g.-', label='Validation set loss')\n",
    "plt.legend()\n",
    "plt.xlabel('Epochs')\n",
    "plt.ylabel('MAE Loss')\n",
    "plt.title('Scalar Baseline Model Loss over Epochs, Batch Size = 100')"
   ]
  },
  {
   "cell_type": "markdown",
   "metadata": {},
   "source": [
    "## short answer - item weight params"
   ]
  },
  {
   "cell_type": "code",
   "execution_count": 19,
   "metadata": {},
   "outputs": [
    {
     "data": {
      "text/html": [
       "<div>\n",
       "<style scoped>\n",
       "    .dataframe tbody tr th:only-of-type {\n",
       "        vertical-align: middle;\n",
       "    }\n",
       "\n",
       "    .dataframe tbody tr th {\n",
       "        vertical-align: top;\n",
       "    }\n",
       "\n",
       "    .dataframe thead th {\n",
       "        text-align: right;\n",
       "    }\n",
       "</style>\n",
       "<table border=\"1\" class=\"dataframe\">\n",
       "  <thead>\n",
       "    <tr style=\"text-align: right;\">\n",
       "      <th></th>\n",
       "      <th>item_id</th>\n",
       "      <th>title</th>\n",
       "      <th>release_year</th>\n",
       "      <th>orig_item_id</th>\n",
       "    </tr>\n",
       "  </thead>\n",
       "  <tbody>\n",
       "    <tr>\n",
       "      <th>0</th>\n",
       "      <td>0</td>\n",
       "      <td>Toy Story (1995)</td>\n",
       "      <td>1995</td>\n",
       "      <td>1</td>\n",
       "    </tr>\n",
       "    <tr>\n",
       "      <th>1</th>\n",
       "      <td>70</td>\n",
       "      <td>Lion King, The (1994)</td>\n",
       "      <td>1994</td>\n",
       "      <td>71</td>\n",
       "    </tr>\n",
       "    <tr>\n",
       "      <th>2</th>\n",
       "      <td>98</td>\n",
       "      <td>Snow White and the Seven Dwarfs (1937)</td>\n",
       "      <td>1937</td>\n",
       "      <td>99</td>\n",
       "    </tr>\n",
       "    <tr>\n",
       "      <th>3</th>\n",
       "      <td>131</td>\n",
       "      <td>Wizard of Oz, The (1939)</td>\n",
       "      <td>1939</td>\n",
       "      <td>132</td>\n",
       "    </tr>\n",
       "    <tr>\n",
       "      <th>4</th>\n",
       "      <td>142</td>\n",
       "      <td>Sound of Music, The (1965)</td>\n",
       "      <td>1965</td>\n",
       "      <td>143</td>\n",
       "    </tr>\n",
       "    <tr>\n",
       "      <th>5</th>\n",
       "      <td>49</td>\n",
       "      <td>Star Wars (1977)</td>\n",
       "      <td>1977</td>\n",
       "      <td>50</td>\n",
       "    </tr>\n",
       "    <tr>\n",
       "      <th>6</th>\n",
       "      <td>171</td>\n",
       "      <td>Empire Strikes Back, The (1980)</td>\n",
       "      <td>1980</td>\n",
       "      <td>172</td>\n",
       "    </tr>\n",
       "    <tr>\n",
       "      <th>7</th>\n",
       "      <td>180</td>\n",
       "      <td>Return of the Jedi (1983)</td>\n",
       "      <td>1997</td>\n",
       "      <td>181</td>\n",
       "    </tr>\n",
       "    <tr>\n",
       "      <th>8</th>\n",
       "      <td>81</td>\n",
       "      <td>Jurassic Park (1993)</td>\n",
       "      <td>1993</td>\n",
       "      <td>82</td>\n",
       "    </tr>\n",
       "    <tr>\n",
       "      <th>9</th>\n",
       "      <td>251</td>\n",
       "      <td>Lost World: Jurassic Park, The (1997)</td>\n",
       "      <td>1997</td>\n",
       "      <td>252</td>\n",
       "    </tr>\n",
       "    <tr>\n",
       "      <th>10</th>\n",
       "      <td>173</td>\n",
       "      <td>Raiders of the Lost Ark (1981)</td>\n",
       "      <td>1981</td>\n",
       "      <td>174</td>\n",
       "    </tr>\n",
       "    <tr>\n",
       "      <th>11</th>\n",
       "      <td>209</td>\n",
       "      <td>Indiana Jones and the Last Crusade (1989)</td>\n",
       "      <td>1989</td>\n",
       "      <td>210</td>\n",
       "    </tr>\n",
       "    <tr>\n",
       "      <th>12</th>\n",
       "      <td>65</td>\n",
       "      <td>While You Were Sleeping (1995)</td>\n",
       "      <td>1995</td>\n",
       "      <td>66</td>\n",
       "    </tr>\n",
       "    <tr>\n",
       "      <th>13</th>\n",
       "      <td>87</td>\n",
       "      <td>Sleepless in Seattle (1993)</td>\n",
       "      <td>1993</td>\n",
       "      <td>88</td>\n",
       "    </tr>\n",
       "    <tr>\n",
       "      <th>14</th>\n",
       "      <td>254</td>\n",
       "      <td>My Best Friend's Wedding (1997)</td>\n",
       "      <td>1997</td>\n",
       "      <td>255</td>\n",
       "    </tr>\n",
       "    <tr>\n",
       "      <th>15</th>\n",
       "      <td>90</td>\n",
       "      <td>Nightmare Before Christmas, The (1993)</td>\n",
       "      <td>1993</td>\n",
       "      <td>91</td>\n",
       "    </tr>\n",
       "    <tr>\n",
       "      <th>16</th>\n",
       "      <td>199</td>\n",
       "      <td>Shining, The (1980)</td>\n",
       "      <td>1980</td>\n",
       "      <td>200</td>\n",
       "    </tr>\n",
       "    <tr>\n",
       "      <th>17</th>\n",
       "      <td>218</td>\n",
       "      <td>Nightmare on Elm Street, A (1984)</td>\n",
       "      <td>1984</td>\n",
       "      <td>219</td>\n",
       "    </tr>\n",
       "    <tr>\n",
       "      <th>18</th>\n",
       "      <td>286</td>\n",
       "      <td>Scream (1996)</td>\n",
       "      <td>1996</td>\n",
       "      <td>288</td>\n",
       "    </tr>\n",
       "    <tr>\n",
       "      <th>19</th>\n",
       "      <td>893</td>\n",
       "      <td>Scream 2 (1997)</td>\n",
       "      <td>1997</td>\n",
       "      <td>895</td>\n",
       "    </tr>\n",
       "  </tbody>\n",
       "</table>\n",
       "</div>"
      ],
      "text/plain": [
       "    item_id                                      title  release_year  \\\n",
       "0         0                           Toy Story (1995)          1995   \n",
       "1        70                      Lion King, The (1994)          1994   \n",
       "2        98     Snow White and the Seven Dwarfs (1937)          1937   \n",
       "3       131                   Wizard of Oz, The (1939)          1939   \n",
       "4       142                 Sound of Music, The (1965)          1965   \n",
       "5        49                           Star Wars (1977)          1977   \n",
       "6       171            Empire Strikes Back, The (1980)          1980   \n",
       "7       180                  Return of the Jedi (1983)          1997   \n",
       "8        81                       Jurassic Park (1993)          1993   \n",
       "9       251      Lost World: Jurassic Park, The (1997)          1997   \n",
       "10      173             Raiders of the Lost Ark (1981)          1981   \n",
       "11      209  Indiana Jones and the Last Crusade (1989)          1989   \n",
       "12       65             While You Were Sleeping (1995)          1995   \n",
       "13       87                Sleepless in Seattle (1993)          1993   \n",
       "14      254            My Best Friend's Wedding (1997)          1997   \n",
       "15       90     Nightmare Before Christmas, The (1993)          1993   \n",
       "16      199                        Shining, The (1980)          1980   \n",
       "17      218          Nightmare on Elm Street, A (1984)          1984   \n",
       "18      286                              Scream (1996)          1996   \n",
       "19      893                            Scream 2 (1997)          1997   \n",
       "\n",
       "    orig_item_id  \n",
       "0              1  \n",
       "1             71  \n",
       "2             99  \n",
       "3            132  \n",
       "4            143  \n",
       "5             50  \n",
       "6            172  \n",
       "7            181  \n",
       "8             82  \n",
       "9            252  \n",
       "10           174  \n",
       "11           210  \n",
       "12            66  \n",
       "13            88  \n",
       "14           255  \n",
       "15            91  \n",
       "16           200  \n",
       "17           219  \n",
       "18           288  \n",
       "19           895  "
      ]
     },
     "execution_count": 19,
     "metadata": {},
     "output_type": "execute_result"
    }
   ],
   "source": [
    "import os \n",
    "data_path='data_movie_lens_100k/'\n",
    "select_movies_df = pd.read_csv(os.path.join(data_path, \"select_movies.csv\"))\n",
    "select_movies_df"
   ]
  },
  {
   "cell_type": "code",
   "execution_count": 24,
   "metadata": {},
   "outputs": [],
   "source": [
    "movie_ids = select_movies_df['item_id'].values"
   ]
  },
  {
   "cell_type": "code",
   "execution_count": 25,
   "metadata": {},
   "outputs": [
    {
     "data": {
      "text/plain": [
       "array([ 0.03736623,  0.01482427,  0.01049803,  0.02532661,  0.0127159 ,\n",
       "        0.08681404,  0.04201366,  0.05001757,  0.01493216, -0.00669885,\n",
       "        0.05354375,  0.02795984,  0.00659206,  0.00605273,  0.00267073,\n",
       "        0.00556919,  0.01383031, -0.00116423,  0.00902559, -0.00327181])"
      ]
     },
     "execution_count": 25,
     "metadata": {},
     "output_type": "execute_result"
    }
   ],
   "source": [
    "final_c_per_item[movie_ids]"
   ]
  },
  {
   "cell_type": "code",
   "execution_count": 29,
   "metadata": {},
   "outputs": [
    {
     "data": {
      "text/plain": [
       "array(['Toy Story (1995)', 'Lion King, The (1994)',\n",
       "       'Snow White and the Seven Dwarfs (1937)',\n",
       "       'Wizard of Oz, The (1939)', 'Sound of Music, The (1965)',\n",
       "       'Star Wars (1977)', 'Empire Strikes Back, The (1980)',\n",
       "       'Return of the Jedi (1983)', 'Jurassic Park (1993)',\n",
       "       'Lost World: Jurassic Park, The (1997)',\n",
       "       'Raiders of the Lost Ark (1981)',\n",
       "       'Indiana Jones and the Last Crusade (1989)',\n",
       "       'While You Were Sleeping (1995)', 'Sleepless in Seattle (1993)',\n",
       "       \"My Best Friend's Wedding (1997)\",\n",
       "       'Nightmare Before Christmas, The (1993)', 'Shining, The (1980)',\n",
       "       'Nightmare on Elm Street, A (1984)', 'Scream (1996)',\n",
       "       'Scream 2 (1997)'], dtype=object)"
      ]
     },
     "execution_count": 29,
     "metadata": {},
     "output_type": "execute_result"
    }
   ],
   "source": [
    "movie_titles = select_movies_df['title'].values\n",
    "movie_titles"
   ]
  },
  {
   "cell_type": "code",
   "execution_count": null,
   "metadata": {},
   "outputs": [],
   "source": []
  }
 ],
 "metadata": {
  "kernelspec": {
   "display_name": "Python 3",
   "language": "python",
   "name": "python3"
  },
  "language_info": {
   "codemirror_mode": {
    "name": "ipython",
    "version": 3
   },
   "file_extension": ".py",
   "mimetype": "text/x-python",
   "name": "python",
   "nbconvert_exporter": "python",
   "pygments_lexer": "ipython3",
   "version": "3.8.5"
  }
 },
 "nbformat": 4,
 "nbformat_minor": 4
}
