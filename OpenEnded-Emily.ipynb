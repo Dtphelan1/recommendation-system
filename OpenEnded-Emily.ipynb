{
 "cells": [
  {
   "cell_type": "markdown",
   "metadata": {},
   "source": [
    "## Train and Analysis of Open Ended model"
   ]
  },
  {
   "cell_type": "code",
   "execution_count": 5,
   "metadata": {},
   "outputs": [],
   "source": [
    "import os\n",
    "# Make sure you use the autograd version of numpy (which we named 'ag_np')\n",
    "# to do all the loss calculations, since automatic gradients are needed\n",
    "import autograd.numpy as ag_np\n",
    "\n",
    "# Use helper packages\n",
    "from AbstractBaseCollabFilterSGD import AbstractBaseCollabFilterSGD\n",
    "from train_valid_test_loader import load_train_valid_test_datasets\n",
    "\n",
    "# Some packages you might need (uncomment as necessary)\n",
    "import pandas as pd\n",
    "import matplotlib.pyplot as plt\n",
    "\n",
    "from CollabFilterOneVectorPerItem import CollabFilterOneVectorPerItem"
   ]
  },
  {
   "cell_type": "code",
   "execution_count": 6,
   "metadata": {},
   "outputs": [],
   "source": [
    "# Load the dataset\n",
    "train_tuple, valid_tuple, test_tuple, n_users, n_items = \\\n",
    "    load_train_valid_test_datasets()\n",
    "\n",
    "test_y = test_tuple[2]\n"
   ]
  },
  {
   "cell_type": "code",
   "execution_count": 9,
   "metadata": {},
   "outputs": [],
   "source": [
    "leaderboard_test_df = pd.read_csv(os.path.join('data_movie_lens_100k', \"ratings_masked_leaderboard_set.csv\"))\n",
    "leaderboard_test_tuple = (leaderboard_test_df['user_id'].values,\n",
    "                          leaderboard_test_df['item_id'].values)"
   ]
  },
  {
   "cell_type": "code",
   "execution_count": 21,
   "metadata": {},
   "outputs": [],
   "source": [
    "output_dir = 'leaderboard_predictions'\n",
    "if not os.path.isdir(output_dir):\n",
    "    os.mkdir(output_dir)\n",
    "    \n",
    "def save_predictions(model, output_filetitle, mu, b_per_user, c_per_item, U, V):\n",
    "    output_filename = output_filetitle + '_predicted_ratings_leaderboard.txt'\n",
    "    output_path = os.path.join(output_dir, output_filename)\n",
    "    yhat = model.predict(leaderboard_test_tuple[0], leaderboard_test_tuple[1], mu=mu, b_per_user=b_per_user, c_per_item=c_per_item, U=U, V=V)\n",
    "    ag_np.savetxt(output_path, yhat)\n",
    "    "
   ]
  },
  {
   "cell_type": "markdown",
   "metadata": {},
   "source": [
    "## Analysis - with no regularization (α=0); K = 2"
   ]
  },
  {
   "cell_type": "code",
   "execution_count": 14,
   "metadata": {},
   "outputs": [
    {
     "name": "stdout",
     "output_type": "stream",
     "text": [
      "epoch       0.000 | loss_total     1.56002 | train_MAE     1.00255 | valid_MAE     1.00803 | grad_wrt_mu     0.95203 | grad_wrt_b_per_user     0.00167 | grad_wrt_c_per_item     0.00104 | grad_wrt_U     0.00057 | grad_wrt_V     0.00031\n",
      "epoch       0.014 | loss_total     1.42677 | train_MAE     0.99187 | valid_MAE     0.99647 | grad_wrt_mu     0.90689 | grad_wrt_b_per_user     0.00164 | grad_wrt_c_per_item     0.00092 | grad_wrt_U     0.00058 | grad_wrt_V     0.00032\n",
      "epoch       0.029 | loss_total     1.45318 | train_MAE     0.98171 | valid_MAE     0.98549 | grad_wrt_mu     0.86846 | grad_wrt_b_per_user     0.00162 | grad_wrt_c_per_item     0.00101 | grad_wrt_U     0.00052 | grad_wrt_V     0.00031\n",
      "epoch       0.043 | loss_total     1.35081 | train_MAE     0.97196 | valid_MAE     0.97495 | grad_wrt_mu     0.50863 | grad_wrt_b_per_user     0.00148 | grad_wrt_c_per_item     0.00093 | grad_wrt_U     0.00031 | grad_wrt_V     0.00018\n",
      "epoch       0.129 | loss_total     1.25943 | train_MAE     0.95024 | valid_MAE     0.95160 | grad_wrt_mu     0.20779 | grad_wrt_b_per_user     0.00139 | grad_wrt_c_per_item     0.00088 | grad_wrt_U     0.00012 | grad_wrt_V     0.00007\n",
      "epoch       0.257 | loss_total     1.29186 | train_MAE     0.94281 | valid_MAE     0.94378 | grad_wrt_mu     0.05375 | grad_wrt_b_per_user     0.00142 | grad_wrt_c_per_item     0.00088 | grad_wrt_U     0.00003 | grad_wrt_V     0.00002\n",
      "epoch       0.386 | loss_total     1.20467 | train_MAE     0.93828 | valid_MAE     0.93907 | grad_wrt_mu     0.01002 | grad_wrt_b_per_user     0.00137 | grad_wrt_c_per_item     0.00082 | grad_wrt_U     0.00001 | grad_wrt_V     0.00000\n",
      "epoch       0.500 | loss_total     1.25877 | train_MAE     0.94092 | valid_MAE     0.94209 | grad_wrt_mu     0.01323 | grad_wrt_b_per_user     0.00144 | grad_wrt_c_per_item     0.00083 | grad_wrt_U     0.00001 | grad_wrt_V     0.00000\n",
      "epoch       0.629 | loss_total     1.31048 | train_MAE     0.93906 | valid_MAE     0.94024 | grad_wrt_mu     0.04332 | grad_wrt_b_per_user     0.00147 | grad_wrt_c_per_item     0.00089 | grad_wrt_U     0.00003 | grad_wrt_V     0.00002\n",
      "epoch       0.757 | loss_total     1.27725 | train_MAE     0.93538 | valid_MAE     0.93646 | grad_wrt_mu     0.15121 | grad_wrt_b_per_user     0.00145 | grad_wrt_c_per_item     0.00084 | grad_wrt_U     0.00010 | grad_wrt_V     0.00005\n",
      "epoch       0.886 | loss_total     1.21856 | train_MAE     0.93401 | valid_MAE     0.93517 | grad_wrt_mu     0.15700 | grad_wrt_b_per_user     0.00133 | grad_wrt_c_per_item     0.00079 | grad_wrt_U     0.00010 | grad_wrt_V     0.00006\n",
      "epoch       1.000 | loss_total     1.22104 | train_MAE     0.93542 | valid_MAE     0.93685 | grad_wrt_mu     0.04392 | grad_wrt_b_per_user     0.00146 | grad_wrt_c_per_item     0.00085 | grad_wrt_U     0.00003 | grad_wrt_V     0.00002\n",
      "epoch       1.129 | loss_total     1.19938 | train_MAE     0.93307 | valid_MAE     0.93452 | grad_wrt_mu     0.03880 | grad_wrt_b_per_user     0.00142 | grad_wrt_c_per_item     0.00081 | grad_wrt_U     0.00002 | grad_wrt_V     0.00001\n",
      "epoch       1.257 | loss_total     1.17793 | train_MAE     0.93352 | valid_MAE     0.93517 | grad_wrt_mu     0.10746 | grad_wrt_b_per_user     0.00135 | grad_wrt_c_per_item     0.00085 | grad_wrt_U     0.00006 | grad_wrt_V     0.00004\n",
      "epoch       1.386 | loss_total     1.21996 | train_MAE     0.93502 | valid_MAE     0.93694 | grad_wrt_mu     0.01730 | grad_wrt_b_per_user     0.00132 | grad_wrt_c_per_item     0.00082 | grad_wrt_U     0.00001 | grad_wrt_V     0.00001\n",
      "epoch       1.500 | loss_total     1.21489 | train_MAE     0.93088 | valid_MAE     0.93260 | grad_wrt_mu     0.04383 | grad_wrt_b_per_user     0.00142 | grad_wrt_c_per_item     0.00082 | grad_wrt_U     0.00003 | grad_wrt_V     0.00002\n",
      "epoch       1.629 | loss_total     1.10824 | train_MAE     0.92917 | valid_MAE     0.93096 | grad_wrt_mu     0.10601 | grad_wrt_b_per_user     0.00131 | grad_wrt_c_per_item     0.00078 | grad_wrt_U     0.00007 | grad_wrt_V     0.00004\n",
      "epoch       1.757 | loss_total     1.22788 | train_MAE     0.92691 | valid_MAE     0.92870 | grad_wrt_mu     0.04947 | grad_wrt_b_per_user     0.00139 | grad_wrt_c_per_item     0.00085 | grad_wrt_U     0.00003 | grad_wrt_V     0.00002\n",
      "epoch       1.886 | loss_total     1.19574 | train_MAE     0.92805 | valid_MAE     0.93010 | grad_wrt_mu     0.03373 | grad_wrt_b_per_user     0.00141 | grad_wrt_c_per_item     0.00080 | grad_wrt_U     0.00002 | grad_wrt_V     0.00001\n",
      "epoch       2.000 | loss_total     1.36973 | train_MAE     0.92932 | valid_MAE     0.93164 | grad_wrt_mu     0.08592 | grad_wrt_b_per_user     0.00144 | grad_wrt_c_per_item     0.00092 | grad_wrt_U     0.00005 | grad_wrt_V     0.00003\n",
      "epoch       2.500 | loss_total     1.22306 | train_MAE     0.92349 | valid_MAE     0.92600 | grad_wrt_mu     0.02226 | grad_wrt_b_per_user     0.00143 | grad_wrt_c_per_item     0.00084 | grad_wrt_U     0.00001 | grad_wrt_V     0.00001\n",
      "epoch       3.000 | loss_total     1.20972 | train_MAE     0.92105 | valid_MAE     0.92401 | grad_wrt_mu     0.02140 | grad_wrt_b_per_user     0.00134 | grad_wrt_c_per_item     0.00082 | grad_wrt_U     0.00001 | grad_wrt_V     0.00001\n",
      "epoch       3.500 | loss_total     1.20452 | train_MAE     0.91552 | valid_MAE     0.91868 | grad_wrt_mu     0.05734 | grad_wrt_b_per_user     0.00141 | grad_wrt_c_per_item     0.00080 | grad_wrt_U     0.00004 | grad_wrt_V     0.00002\n",
      "epoch       4.000 | loss_total     1.19078 | train_MAE     0.91232 | valid_MAE     0.91583 | grad_wrt_mu     0.00601 | grad_wrt_b_per_user     0.00130 | grad_wrt_c_per_item     0.00077 | grad_wrt_U     0.00000 | grad_wrt_V     0.00000\n",
      "epoch       4.500 | loss_total     1.17855 | train_MAE     0.90749 | valid_MAE     0.91123 | grad_wrt_mu     0.13069 | grad_wrt_b_per_user     0.00134 | grad_wrt_c_per_item     0.00083 | grad_wrt_U     0.00008 | grad_wrt_V     0.00005\n",
      "epoch       5.000 | loss_total     1.17757 | train_MAE     0.90441 | valid_MAE     0.90847 | grad_wrt_mu     0.05058 | grad_wrt_b_per_user     0.00136 | grad_wrt_c_per_item     0.00079 | grad_wrt_U     0.00003 | grad_wrt_V     0.00002\n",
      "epoch       5.500 | loss_total     1.16564 | train_MAE     0.89940 | valid_MAE     0.90361 | grad_wrt_mu     0.02397 | grad_wrt_b_per_user     0.00133 | grad_wrt_c_per_item     0.00082 | grad_wrt_U     0.00002 | grad_wrt_V     0.00001\n",
      "epoch       6.000 | loss_total     1.16059 | train_MAE     0.89729 | valid_MAE     0.90187 | grad_wrt_mu     0.14190 | grad_wrt_b_per_user     0.00135 | grad_wrt_c_per_item     0.00082 | grad_wrt_U     0.00009 | grad_wrt_V     0.00005\n",
      "epoch       6.500 | loss_total     1.15632 | train_MAE     0.89389 | valid_MAE     0.89873 | grad_wrt_mu     0.01632 | grad_wrt_b_per_user     0.00137 | grad_wrt_c_per_item     0.00083 | grad_wrt_U     0.00001 | grad_wrt_V     0.00001\n",
      "epoch       7.000 | loss_total     1.14609 | train_MAE     0.89059 | valid_MAE     0.89568 | grad_wrt_mu     0.01023 | grad_wrt_b_per_user     0.00138 | grad_wrt_c_per_item     0.00085 | grad_wrt_U     0.00001 | grad_wrt_V     0.00000\n",
      "epoch       7.500 | loss_total     1.13795 | train_MAE     0.88810 | valid_MAE     0.89349 | grad_wrt_mu     0.00697 | grad_wrt_b_per_user     0.00128 | grad_wrt_c_per_item     0.00081 | grad_wrt_U     0.00000 | grad_wrt_V     0.00000\n",
      "epoch       8.000 | loss_total     1.13084 | train_MAE     0.88443 | valid_MAE     0.89000 | grad_wrt_mu     0.02602 | grad_wrt_b_per_user     0.00132 | grad_wrt_c_per_item     0.00078 | grad_wrt_U     0.00002 | grad_wrt_V     0.00001\n",
      "epoch       9.000 | loss_total     1.11943 | train_MAE     0.87946 | valid_MAE     0.88557 | grad_wrt_mu     0.06028 | grad_wrt_b_per_user     0.00130 | grad_wrt_c_per_item     0.00078 | grad_wrt_U     0.00004 | grad_wrt_V     0.00002\n",
      "epoch      10.000 | loss_total     1.10944 | train_MAE     0.87373 | valid_MAE     0.88026 | grad_wrt_mu     0.06036 | grad_wrt_b_per_user     0.00122 | grad_wrt_c_per_item     0.00074 | grad_wrt_U     0.00004 | grad_wrt_V     0.00002\n",
      "epoch      11.000 | loss_total     1.09849 | train_MAE     0.86655 | valid_MAE     0.87334 | grad_wrt_mu     0.01782 | grad_wrt_b_per_user     0.00127 | grad_wrt_c_per_item     0.00078 | grad_wrt_U     0.00001 | grad_wrt_V     0.00001\n"
     ]
    },
    {
     "name": "stdout",
     "output_type": "stream",
     "text": [
      "epoch      12.000 | loss_total     1.08873 | train_MAE     0.86261 | valid_MAE     0.86988 | grad_wrt_mu     0.10619 | grad_wrt_b_per_user     0.00122 | grad_wrt_c_per_item     0.00078 | grad_wrt_U     0.00007 | grad_wrt_V     0.00004\n",
      "epoch      13.000 | loss_total     1.07963 | train_MAE     0.85628 | valid_MAE     0.86376 | grad_wrt_mu     0.00616 | grad_wrt_b_per_user     0.00128 | grad_wrt_c_per_item     0.00077 | grad_wrt_U     0.00000 | grad_wrt_V     0.00000\n",
      "epoch      14.000 | loss_total     1.07065 | train_MAE     0.85190 | valid_MAE     0.85973 | grad_wrt_mu     0.13253 | grad_wrt_b_per_user     0.00124 | grad_wrt_c_per_item     0.00078 | grad_wrt_U     0.00008 | grad_wrt_V     0.00005\n",
      "epoch      15.000 | loss_total     1.06321 | train_MAE     0.84857 | valid_MAE     0.85680 | grad_wrt_mu     0.03412 | grad_wrt_b_per_user     0.00124 | grad_wrt_c_per_item     0.00075 | grad_wrt_U     0.00002 | grad_wrt_V     0.00001\n",
      "epoch      16.000 | loss_total     1.05492 | train_MAE     0.84285 | valid_MAE     0.85123 | grad_wrt_mu     0.00701 | grad_wrt_b_per_user     0.00123 | grad_wrt_c_per_item     0.00071 | grad_wrt_U     0.00000 | grad_wrt_V     0.00000\n",
      "epoch      17.000 | loss_total     1.04904 | train_MAE     0.84039 | valid_MAE     0.84912 | grad_wrt_mu     0.06029 | grad_wrt_b_per_user     0.00121 | grad_wrt_c_per_item     0.00071 | grad_wrt_U     0.00004 | grad_wrt_V     0.00002\n",
      "epoch      18.000 | loss_total     1.04246 | train_MAE     0.83861 | valid_MAE     0.84776 | grad_wrt_mu     0.00797 | grad_wrt_b_per_user     0.00120 | grad_wrt_c_per_item     0.00075 | grad_wrt_U     0.00001 | grad_wrt_V     0.00000\n",
      "epoch      19.000 | loss_total     1.03540 | train_MAE     0.83150 | valid_MAE     0.84062 | grad_wrt_mu     0.10319 | grad_wrt_b_per_user     0.00114 | grad_wrt_c_per_item     0.00072 | grad_wrt_U     0.00007 | grad_wrt_V     0.00004\n",
      "epoch      20.000 | loss_total     1.03080 | train_MAE     0.82869 | valid_MAE     0.83811 | grad_wrt_mu     0.08017 | grad_wrt_b_per_user     0.00125 | grad_wrt_c_per_item     0.00075 | grad_wrt_U     0.00005 | grad_wrt_V     0.00003\n",
      "epoch      21.000 | loss_total     1.02331 | train_MAE     0.82610 | valid_MAE     0.83584 | grad_wrt_mu     0.04147 | grad_wrt_b_per_user     0.00119 | grad_wrt_c_per_item     0.00071 | grad_wrt_U     0.00003 | grad_wrt_V     0.00002\n",
      "epoch      22.000 | loss_total     1.02083 | train_MAE     0.82267 | valid_MAE     0.83261 | grad_wrt_mu     0.05525 | grad_wrt_b_per_user     0.00126 | grad_wrt_c_per_item     0.00075 | grad_wrt_U     0.00004 | grad_wrt_V     0.00002\n",
      "epoch      23.000 | loss_total     1.01304 | train_MAE     0.81932 | valid_MAE     0.82943 | grad_wrt_mu     0.01438 | grad_wrt_b_per_user     0.00117 | grad_wrt_c_per_item     0.00067 | grad_wrt_U     0.00001 | grad_wrt_V     0.00001\n",
      "epoch      24.000 | loss_total     1.01080 | train_MAE     0.81780 | valid_MAE     0.82823 | grad_wrt_mu     0.04239 | grad_wrt_b_per_user     0.00122 | grad_wrt_c_per_item     0.00072 | grad_wrt_U     0.00003 | grad_wrt_V     0.00002\n",
      "epoch      25.000 | loss_total     1.00354 | train_MAE     0.81385 | valid_MAE     0.82432 | grad_wrt_mu     0.02965 | grad_wrt_b_per_user     0.00114 | grad_wrt_c_per_item     0.00067 | grad_wrt_U     0.00002 | grad_wrt_V     0.00001\n",
      "epoch      26.000 | loss_total     1.00140 | train_MAE     0.81131 | valid_MAE     0.82196 | grad_wrt_mu     0.01273 | grad_wrt_b_per_user     0.00117 | grad_wrt_c_per_item     0.00072 | grad_wrt_U     0.00001 | grad_wrt_V     0.00000\n",
      "epoch      27.000 | loss_total     0.99784 | train_MAE     0.80940 | valid_MAE     0.82028 | grad_wrt_mu     0.05380 | grad_wrt_b_per_user     0.00125 | grad_wrt_c_per_item     0.00075 | grad_wrt_U     0.00003 | grad_wrt_V     0.00002\n",
      "epoch      28.000 | loss_total     0.99197 | train_MAE     0.80791 | valid_MAE     0.81908 | grad_wrt_mu     0.05191 | grad_wrt_b_per_user     0.00114 | grad_wrt_c_per_item     0.00069 | grad_wrt_U     0.00003 | grad_wrt_V     0.00002\n",
      "epoch      29.000 | loss_total     0.98984 | train_MAE     0.80429 | valid_MAE     0.81542 | grad_wrt_mu     0.05421 | grad_wrt_b_per_user     0.00116 | grad_wrt_c_per_item     0.00072 | grad_wrt_U     0.00004 | grad_wrt_V     0.00002\n",
      "epoch      30.000 | loss_total     0.98506 | train_MAE     0.80423 | valid_MAE     0.81579 | grad_wrt_mu     0.02251 | grad_wrt_b_per_user     0.00116 | grad_wrt_c_per_item     0.00071 | grad_wrt_U     0.00002 | grad_wrt_V     0.00001\n",
      "epoch      31.000 | loss_total     0.98247 | train_MAE     0.80077 | valid_MAE     0.81229 | grad_wrt_mu     0.09317 | grad_wrt_b_per_user     0.00117 | grad_wrt_c_per_item     0.00072 | grad_wrt_U     0.00006 | grad_wrt_V     0.00004\n",
      "epoch      32.000 | loss_total     0.97917 | train_MAE     0.79857 | valid_MAE     0.81021 | grad_wrt_mu     0.05091 | grad_wrt_b_per_user     0.00116 | grad_wrt_c_per_item     0.00071 | grad_wrt_U     0.00003 | grad_wrt_V     0.00002\n",
      "epoch      34.000 | loss_total     0.97284 | train_MAE     0.79415 | valid_MAE     0.80596 | grad_wrt_mu     0.04590 | grad_wrt_b_per_user     0.00117 | grad_wrt_c_per_item     0.00072 | grad_wrt_U     0.00003 | grad_wrt_V     0.00002\n",
      "epoch      36.000 | loss_total     0.96784 | train_MAE     0.79429 | valid_MAE     0.80694 | grad_wrt_mu     0.06142 | grad_wrt_b_per_user     0.00116 | grad_wrt_c_per_item     0.00068 | grad_wrt_U     0.00004 | grad_wrt_V     0.00002\n",
      "epoch      38.000 | loss_total     0.96379 | train_MAE     0.78876 | valid_MAE     0.80132 | grad_wrt_mu     0.11898 | grad_wrt_b_per_user     0.00123 | grad_wrt_c_per_item     0.00074 | grad_wrt_U     0.00008 | grad_wrt_V     0.00005\n",
      "epoch      40.000 | loss_total     0.95669 | train_MAE     0.78697 | valid_MAE     0.80001 | grad_wrt_mu     0.02716 | grad_wrt_b_per_user     0.00111 | grad_wrt_c_per_item     0.00070 | grad_wrt_U     0.00002 | grad_wrt_V     0.00001\n",
      "epoch      42.000 | loss_total     0.95203 | train_MAE     0.78371 | valid_MAE     0.79693 | grad_wrt_mu     0.05761 | grad_wrt_b_per_user     0.00117 | grad_wrt_c_per_item     0.00067 | grad_wrt_U     0.00004 | grad_wrt_V     0.00002\n",
      "epoch      44.000 | loss_total     0.94884 | train_MAE     0.78263 | valid_MAE     0.79635 | grad_wrt_mu     0.02528 | grad_wrt_b_per_user     0.00111 | grad_wrt_c_per_item     0.00068 | grad_wrt_U     0.00002 | grad_wrt_V     0.00001\n",
      "epoch      46.000 | loss_total     0.94439 | train_MAE     0.77895 | valid_MAE     0.79269 | grad_wrt_mu     0.06772 | grad_wrt_b_per_user     0.00118 | grad_wrt_c_per_item     0.00073 | grad_wrt_U     0.00005 | grad_wrt_V     0.00003\n",
      "epoch      48.000 | loss_total     0.93989 | train_MAE     0.77663 | valid_MAE     0.79058 | grad_wrt_mu     0.06541 | grad_wrt_b_per_user     0.00115 | grad_wrt_c_per_item     0.00069 | grad_wrt_U     0.00005 | grad_wrt_V     0.00003\n",
      "epoch      50.000 | loss_total     0.93829 | train_MAE     0.77468 | valid_MAE     0.78886 | grad_wrt_mu     0.09832 | grad_wrt_b_per_user     0.00116 | grad_wrt_c_per_item     0.00069 | grad_wrt_U     0.00006 | grad_wrt_V     0.00004\n",
      "epoch      52.000 | loss_total     0.93265 | train_MAE     0.77261 | valid_MAE     0.78697 | grad_wrt_mu     0.06830 | grad_wrt_b_per_user     0.00113 | grad_wrt_c_per_item     0.00067 | grad_wrt_U     0.00004 | grad_wrt_V     0.00003\n",
      "epoch      54.000 | loss_total     0.93083 | train_MAE     0.77213 | valid_MAE     0.78696 | grad_wrt_mu     0.02190 | grad_wrt_b_per_user     0.00109 | grad_wrt_c_per_item     0.00062 | grad_wrt_U     0.00002 | grad_wrt_V     0.00001\n",
      "epoch      56.000 | loss_total     0.92756 | train_MAE     0.77157 | valid_MAE     0.78680 | grad_wrt_mu     0.07661 | grad_wrt_b_per_user     0.00109 | grad_wrt_c_per_item     0.00063 | grad_wrt_U     0.00005 | grad_wrt_V     0.00003\n",
      "epoch      58.000 | loss_total     0.92426 | train_MAE     0.76877 | valid_MAE     0.78397 | grad_wrt_mu     0.02637 | grad_wrt_b_per_user     0.00113 | grad_wrt_c_per_item     0.00065 | grad_wrt_U     0.00002 | grad_wrt_V     0.00001\n",
      "epoch      60.000 | loss_total     0.92315 | train_MAE     0.76735 | valid_MAE     0.78276 | grad_wrt_mu     0.20878 | grad_wrt_b_per_user     0.00111 | grad_wrt_c_per_item     0.00067 | grad_wrt_U     0.00015 | grad_wrt_V     0.00009\n"
     ]
    },
    {
     "name": "stdout",
     "output_type": "stream",
     "text": [
      "epoch      62.000 | loss_total     0.91941 | train_MAE     0.76652 | valid_MAE     0.78223 | grad_wrt_mu     0.03158 | grad_wrt_b_per_user     0.00113 | grad_wrt_c_per_item     0.00068 | grad_wrt_U     0.00002 | grad_wrt_V     0.00001\n",
      "epoch      64.000 | loss_total     0.91756 | train_MAE     0.76665 | valid_MAE     0.78283 | grad_wrt_mu     0.04483 | grad_wrt_b_per_user     0.00112 | grad_wrt_c_per_item     0.00065 | grad_wrt_U     0.00003 | grad_wrt_V     0.00002\n",
      "epoch      66.000 | loss_total     0.91655 | train_MAE     0.76275 | valid_MAE     0.77859 | grad_wrt_mu     0.12703 | grad_wrt_b_per_user     0.00110 | grad_wrt_c_per_item     0.00063 | grad_wrt_U     0.00009 | grad_wrt_V     0.00006\n",
      "epoch      68.000 | loss_total     0.91270 | train_MAE     0.76234 | valid_MAE     0.77856 | grad_wrt_mu     0.10264 | grad_wrt_b_per_user     0.00110 | grad_wrt_c_per_item     0.00065 | grad_wrt_U     0.00007 | grad_wrt_V     0.00005\n",
      "epoch      70.000 | loss_total     0.91055 | train_MAE     0.76162 | valid_MAE     0.77813 | grad_wrt_mu     0.05584 | grad_wrt_b_per_user     0.00106 | grad_wrt_c_per_item     0.00067 | grad_wrt_U     0.00004 | grad_wrt_V     0.00002\n",
      "epoch      72.000 | loss_total     0.91019 | train_MAE     0.76191 | valid_MAE     0.77888 | grad_wrt_mu     0.06359 | grad_wrt_b_per_user     0.00104 | grad_wrt_c_per_item     0.00064 | grad_wrt_U     0.00005 | grad_wrt_V     0.00003\n",
      "epoch      74.000 | loss_total     0.90661 | train_MAE     0.75958 | valid_MAE     0.77646 | grad_wrt_mu     0.00589 | grad_wrt_b_per_user     0.00105 | grad_wrt_c_per_item     0.00062 | grad_wrt_U     0.00000 | grad_wrt_V     0.00000\n",
      "epoch      76.000 | loss_total     0.90571 | train_MAE     0.75853 | valid_MAE     0.77556 | grad_wrt_mu     0.02676 | grad_wrt_b_per_user     0.00115 | grad_wrt_c_per_item     0.00071 | grad_wrt_U     0.00002 | grad_wrt_V     0.00001\n",
      "epoch      78.000 | loss_total     0.90451 | train_MAE     0.75761 | valid_MAE     0.77483 | grad_wrt_mu     0.01245 | grad_wrt_b_per_user     0.00115 | grad_wrt_c_per_item     0.00065 | grad_wrt_U     0.00001 | grad_wrt_V     0.00001\n",
      "epoch      80.000 | loss_total     0.90149 | train_MAE     0.75579 | valid_MAE     0.77292 | grad_wrt_mu     0.06982 | grad_wrt_b_per_user     0.00106 | grad_wrt_c_per_item     0.00067 | grad_wrt_U     0.00005 | grad_wrt_V     0.00003\n",
      "epoch      82.000 | loss_total     0.90026 | train_MAE     0.75565 | valid_MAE     0.77316 | grad_wrt_mu     0.06356 | grad_wrt_b_per_user     0.00110 | grad_wrt_c_per_item     0.00063 | grad_wrt_U     0.00005 | grad_wrt_V     0.00003\n",
      "epoch      84.000 | loss_total     0.89733 | train_MAE     0.75487 | valid_MAE     0.77257 | grad_wrt_mu     0.00847 | grad_wrt_b_per_user     0.00106 | grad_wrt_c_per_item     0.00063 | grad_wrt_U     0.00001 | grad_wrt_V     0.00000\n",
      "epoch      86.000 | loss_total     0.89694 | train_MAE     0.75436 | valid_MAE     0.77230 | grad_wrt_mu     0.14828 | grad_wrt_b_per_user     0.00110 | grad_wrt_c_per_item     0.00064 | grad_wrt_U     0.00012 | grad_wrt_V     0.00007\n",
      "epoch      88.000 | loss_total     0.89656 | train_MAE     0.75247 | valid_MAE     0.77025 | grad_wrt_mu     0.07295 | grad_wrt_b_per_user     0.00113 | grad_wrt_c_per_item     0.00064 | grad_wrt_U     0.00006 | grad_wrt_V     0.00004\n",
      "epoch      90.000 | loss_total     0.89488 | train_MAE     0.75339 | valid_MAE     0.77178 | grad_wrt_mu     0.02447 | grad_wrt_b_per_user     0.00113 | grad_wrt_c_per_item     0.00066 | grad_wrt_U     0.00002 | grad_wrt_V     0.00001\n",
      "epoch      92.000 | loss_total     0.89190 | train_MAE     0.75156 | valid_MAE     0.76980 | grad_wrt_mu     0.01792 | grad_wrt_b_per_user     0.00101 | grad_wrt_c_per_item     0.00062 | grad_wrt_U     0.00001 | grad_wrt_V     0.00001\n",
      "epoch      94.000 | loss_total     0.89070 | train_MAE     0.75149 | valid_MAE     0.77005 | grad_wrt_mu     0.10682 | grad_wrt_b_per_user     0.00107 | grad_wrt_c_per_item     0.00063 | grad_wrt_U     0.00008 | grad_wrt_V     0.00005\n",
      "epoch      96.000 | loss_total     0.89055 | train_MAE     0.75110 | valid_MAE     0.76986 | grad_wrt_mu     0.02001 | grad_wrt_b_per_user     0.00114 | grad_wrt_c_per_item     0.00065 | grad_wrt_U     0.00002 | grad_wrt_V     0.00001\n",
      "epoch      98.000 | loss_total     0.88909 | train_MAE     0.74989 | valid_MAE     0.76864 | grad_wrt_mu     0.07201 | grad_wrt_b_per_user     0.00107 | grad_wrt_c_per_item     0.00067 | grad_wrt_U     0.00006 | grad_wrt_V     0.00004\n",
      "epoch     100.000 | loss_total     0.88846 | train_MAE     0.74958 | valid_MAE     0.76853 | grad_wrt_mu     0.11998 | grad_wrt_b_per_user     0.00104 | grad_wrt_c_per_item     0.00064 | grad_wrt_U     0.00009 | grad_wrt_V     0.00006\n",
      "epoch     102.000 | loss_total     0.88842 | train_MAE     0.74777 | valid_MAE     0.76646 | grad_wrt_mu     0.09230 | grad_wrt_b_per_user     0.00110 | grad_wrt_c_per_item     0.00068 | grad_wrt_U     0.00007 | grad_wrt_V     0.00005\n",
      "epoch     104.000 | loss_total     0.88562 | train_MAE     0.74878 | valid_MAE     0.76810 | grad_wrt_mu     0.15077 | grad_wrt_b_per_user     0.00105 | grad_wrt_c_per_item     0.00061 | grad_wrt_U     0.00012 | grad_wrt_V     0.00007\n",
      "epoch     106.000 | loss_total     0.88370 | train_MAE     0.74767 | valid_MAE     0.76697 | grad_wrt_mu     0.02506 | grad_wrt_b_per_user     0.00109 | grad_wrt_c_per_item     0.00065 | grad_wrt_U     0.00002 | grad_wrt_V     0.00001\n",
      "epoch     108.000 | loss_total     0.88369 | train_MAE     0.74780 | valid_MAE     0.76741 | grad_wrt_mu     0.02497 | grad_wrt_b_per_user     0.00107 | grad_wrt_c_per_item     0.00065 | grad_wrt_U     0.00002 | grad_wrt_V     0.00001\n",
      "epoch     110.000 | loss_total     0.88331 | train_MAE     0.74771 | valid_MAE     0.76755 | grad_wrt_mu     0.08320 | grad_wrt_b_per_user     0.00108 | grad_wrt_c_per_item     0.00064 | grad_wrt_U     0.00007 | grad_wrt_V     0.00004\n",
      "epoch     112.000 | loss_total     0.88149 | train_MAE     0.74620 | valid_MAE     0.76591 | grad_wrt_mu     0.01772 | grad_wrt_b_per_user     0.00109 | grad_wrt_c_per_item     0.00061 | grad_wrt_U     0.00001 | grad_wrt_V     0.00001\n",
      "epoch     114.000 | loss_total     0.87927 | train_MAE     0.74620 | valid_MAE     0.76616 | grad_wrt_mu     0.03969 | grad_wrt_b_per_user     0.00102 | grad_wrt_c_per_item     0.00061 | grad_wrt_U     0.00003 | grad_wrt_V     0.00002\n",
      "epoch     116.000 | loss_total     0.87902 | train_MAE     0.74540 | valid_MAE     0.76542 | grad_wrt_mu     0.06324 | grad_wrt_b_per_user     0.00107 | grad_wrt_c_per_item     0.00064 | grad_wrt_U     0.00005 | grad_wrt_V     0.00003\n",
      "epoch     118.000 | loss_total     0.87974 | train_MAE     0.74444 | valid_MAE     0.76443 | grad_wrt_mu     0.04582 | grad_wrt_b_per_user     0.00116 | grad_wrt_c_per_item     0.00068 | grad_wrt_U     0.00004 | grad_wrt_V     0.00002\n",
      "epoch     120.000 | loss_total     0.87693 | train_MAE     0.74581 | valid_MAE     0.76637 | grad_wrt_mu     0.16847 | grad_wrt_b_per_user     0.00106 | grad_wrt_c_per_item     0.00062 | grad_wrt_U     0.00013 | grad_wrt_V     0.00009\n",
      "epoch     122.000 | loss_total     0.87727 | train_MAE     0.74445 | valid_MAE     0.76491 | grad_wrt_mu     0.07503 | grad_wrt_b_per_user     0.00113 | grad_wrt_c_per_item     0.00064 | grad_wrt_U     0.00006 | grad_wrt_V     0.00004\n",
      "epoch     124.000 | loss_total     0.87599 | train_MAE     0.74390 | valid_MAE     0.76445 | grad_wrt_mu     0.05154 | grad_wrt_b_per_user     0.00099 | grad_wrt_c_per_item     0.00059 | grad_wrt_U     0.00004 | grad_wrt_V     0.00003\n",
      "epoch     126.000 | loss_total     0.87703 | train_MAE     0.74290 | valid_MAE     0.76342 | grad_wrt_mu     0.01390 | grad_wrt_b_per_user     0.00108 | grad_wrt_c_per_item     0.00064 | grad_wrt_U     0.00001 | grad_wrt_V     0.00001\n",
      "epoch     128.000 | loss_total     0.87618 | train_MAE     0.74226 | valid_MAE     0.76284 | grad_wrt_mu     0.04093 | grad_wrt_b_per_user     0.00103 | grad_wrt_c_per_item     0.00065 | grad_wrt_U     0.00003 | grad_wrt_V     0.00002\n",
      "epoch     132.000 | loss_total     0.87369 | train_MAE     0.74155 | valid_MAE     0.76237 | grad_wrt_mu     0.00825 | grad_wrt_b_per_user     0.00109 | grad_wrt_c_per_item     0.00064 | grad_wrt_U     0.00001 | grad_wrt_V     0.00000\n"
     ]
    },
    {
     "name": "stdout",
     "output_type": "stream",
     "text": [
      "epoch     136.000 | loss_total     0.87092 | train_MAE     0.74177 | valid_MAE     0.76304 | grad_wrt_mu     0.00278 | grad_wrt_b_per_user     0.00104 | grad_wrt_c_per_item     0.00067 | grad_wrt_U     0.00000 | grad_wrt_V     0.00000\n",
      "epoch     140.000 | loss_total     0.86912 | train_MAE     0.74049 | valid_MAE     0.76179 | grad_wrt_mu     0.14520 | grad_wrt_b_per_user     0.00108 | grad_wrt_c_per_item     0.00063 | grad_wrt_U     0.00013 | grad_wrt_V     0.00008\n",
      "epoch     144.000 | loss_total     0.86825 | train_MAE     0.74055 | valid_MAE     0.76223 | grad_wrt_mu     0.13919 | grad_wrt_b_per_user     0.00101 | grad_wrt_c_per_item     0.00062 | grad_wrt_U     0.00012 | grad_wrt_V     0.00008\n",
      "epoch     148.000 | loss_total     0.86873 | train_MAE     0.73888 | valid_MAE     0.76047 | grad_wrt_mu     0.09664 | grad_wrt_b_per_user     0.00111 | grad_wrt_c_per_item     0.00062 | grad_wrt_U     0.00009 | grad_wrt_V     0.00006\n",
      "epoch     152.000 | loss_total     0.86680 | train_MAE     0.74027 | valid_MAE     0.76248 | grad_wrt_mu     0.09084 | grad_wrt_b_per_user     0.00109 | grad_wrt_c_per_item     0.00066 | grad_wrt_U     0.00008 | grad_wrt_V     0.00005\n",
      "epoch     156.000 | loss_total     0.86587 | train_MAE     0.73841 | valid_MAE     0.76056 | grad_wrt_mu     0.09077 | grad_wrt_b_per_user     0.00105 | grad_wrt_c_per_item     0.00061 | grad_wrt_U     0.00009 | grad_wrt_V     0.00005\n",
      "epoch     160.000 | loss_total     0.86471 | train_MAE     0.73770 | valid_MAE     0.75996 | grad_wrt_mu     0.09321 | grad_wrt_b_per_user     0.00110 | grad_wrt_c_per_item     0.00064 | grad_wrt_U     0.00008 | grad_wrt_V     0.00006\n",
      "epoch     164.000 | loss_total     0.86361 | train_MAE     0.73797 | valid_MAE     0.76057 | grad_wrt_mu     0.07882 | grad_wrt_b_per_user     0.00108 | grad_wrt_c_per_item     0.00060 | grad_wrt_U     0.00008 | grad_wrt_V     0.00005\n",
      "epoch     168.000 | loss_total     0.86150 | train_MAE     0.73677 | valid_MAE     0.75941 | grad_wrt_mu     0.11202 | grad_wrt_b_per_user     0.00100 | grad_wrt_c_per_item     0.00059 | grad_wrt_U     0.00011 | grad_wrt_V     0.00007\n",
      "epoch     172.000 | loss_total     0.86268 | train_MAE     0.73582 | valid_MAE     0.75851 | grad_wrt_mu     0.00356 | grad_wrt_b_per_user     0.00101 | grad_wrt_c_per_item     0.00062 | grad_wrt_U     0.00000 | grad_wrt_V     0.00000\n",
      "epoch     176.000 | loss_total     0.86216 | train_MAE     0.73554 | valid_MAE     0.75841 | grad_wrt_mu     0.05104 | grad_wrt_b_per_user     0.00110 | grad_wrt_c_per_item     0.00063 | grad_wrt_U     0.00005 | grad_wrt_V     0.00003\n",
      "epoch     180.000 | loss_total     0.85900 | train_MAE     0.73516 | valid_MAE     0.75820 | grad_wrt_mu     0.00172 | grad_wrt_b_per_user     0.00099 | grad_wrt_c_per_item     0.00060 | grad_wrt_U     0.00000 | grad_wrt_V     0.00000\n",
      "epoch     184.000 | loss_total     0.85894 | train_MAE     0.73512 | valid_MAE     0.75837 | grad_wrt_mu     0.03896 | grad_wrt_b_per_user     0.00105 | grad_wrt_c_per_item     0.00063 | grad_wrt_U     0.00004 | grad_wrt_V     0.00003\n",
      "epoch     188.000 | loss_total     0.85908 | train_MAE     0.73436 | valid_MAE     0.75766 | grad_wrt_mu     0.01772 | grad_wrt_b_per_user     0.00100 | grad_wrt_c_per_item     0.00059 | grad_wrt_U     0.00002 | grad_wrt_V     0.00001\n",
      "epoch     192.000 | loss_total     0.85628 | train_MAE     0.73525 | valid_MAE     0.75894 | grad_wrt_mu     0.08533 | grad_wrt_b_per_user     0.00097 | grad_wrt_c_per_item     0.00057 | grad_wrt_U     0.00009 | grad_wrt_V     0.00006\n",
      "epoch     196.000 | loss_total     0.85605 | train_MAE     0.73499 | valid_MAE     0.75882 | grad_wrt_mu     0.07296 | grad_wrt_b_per_user     0.00102 | grad_wrt_c_per_item     0.00059 | grad_wrt_U     0.00008 | grad_wrt_V     0.00005\n",
      "epoch     200.000 | loss_total     0.85519 | train_MAE     0.73313 | valid_MAE     0.75677 | grad_wrt_mu     0.03010 | grad_wrt_b_per_user     0.00097 | grad_wrt_c_per_item     0.00059 | grad_wrt_U     0.00003 | grad_wrt_V     0.00002\n",
      "epoch     204.000 | loss_total     0.85456 | train_MAE     0.73369 | valid_MAE     0.75766 | grad_wrt_mu     0.00867 | grad_wrt_b_per_user     0.00106 | grad_wrt_c_per_item     0.00065 | grad_wrt_U     0.00001 | grad_wrt_V     0.00001\n",
      "epoch     208.000 | loss_total     0.85314 | train_MAE     0.73188 | valid_MAE     0.75566 | grad_wrt_mu     0.02950 | grad_wrt_b_per_user     0.00105 | grad_wrt_c_per_item     0.00061 | grad_wrt_U     0.00003 | grad_wrt_V     0.00002\n",
      "epoch     212.000 | loss_total     0.85547 | train_MAE     0.73231 | valid_MAE     0.75640 | grad_wrt_mu     0.01162 | grad_wrt_b_per_user     0.00106 | grad_wrt_c_per_item     0.00068 | grad_wrt_U     0.00001 | grad_wrt_V     0.00001\n",
      "epoch     216.000 | loss_total     0.85231 | train_MAE     0.73222 | valid_MAE     0.75650 | grad_wrt_mu     0.02862 | grad_wrt_b_per_user     0.00106 | grad_wrt_c_per_item     0.00059 | grad_wrt_U     0.00003 | grad_wrt_V     0.00002\n",
      "epoch     220.000 | loss_total     0.85214 | train_MAE     0.73123 | valid_MAE     0.75550 | grad_wrt_mu     0.00640 | grad_wrt_b_per_user     0.00098 | grad_wrt_c_per_item     0.00060 | grad_wrt_U     0.00001 | grad_wrt_V     0.00000\n",
      "epoch     224.000 | loss_total     0.85361 | train_MAE     0.73100 | valid_MAE     0.75540 | grad_wrt_mu     0.13118 | grad_wrt_b_per_user     0.00101 | grad_wrt_c_per_item     0.00062 | grad_wrt_U     0.00016 | grad_wrt_V     0.00010\n",
      "epoch     228.000 | loss_total     0.85110 | train_MAE     0.73201 | valid_MAE     0.75677 | grad_wrt_mu     0.11420 | grad_wrt_b_per_user     0.00097 | grad_wrt_c_per_item     0.00063 | grad_wrt_U     0.00014 | grad_wrt_V     0.00009\n",
      "epoch     232.000 | loss_total     0.85210 | train_MAE     0.73028 | valid_MAE     0.75480 | grad_wrt_mu     0.09276 | grad_wrt_b_per_user     0.00112 | grad_wrt_c_per_item     0.00065 | grad_wrt_U     0.00011 | grad_wrt_V     0.00007\n",
      "epoch     236.000 | loss_total     0.85153 | train_MAE     0.73053 | valid_MAE     0.75533 | grad_wrt_mu     0.06426 | grad_wrt_b_per_user     0.00104 | grad_wrt_c_per_item     0.00064 | grad_wrt_U     0.00008 | grad_wrt_V     0.00005\n",
      "epoch     240.000 | loss_total     0.85134 | train_MAE     0.73004 | valid_MAE     0.75485 | grad_wrt_mu     0.03224 | grad_wrt_b_per_user     0.00104 | grad_wrt_c_per_item     0.00063 | grad_wrt_U     0.00004 | grad_wrt_V     0.00002\n",
      "epoch     244.000 | loss_total     0.84905 | train_MAE     0.73067 | valid_MAE     0.75573 | grad_wrt_mu     0.05565 | grad_wrt_b_per_user     0.00099 | grad_wrt_c_per_item     0.00059 | grad_wrt_U     0.00007 | grad_wrt_V     0.00005\n",
      "epoch     248.000 | loss_total     0.84906 | train_MAE     0.72967 | valid_MAE     0.75465 | grad_wrt_mu     0.12894 | grad_wrt_b_per_user     0.00103 | grad_wrt_c_per_item     0.00060 | grad_wrt_U     0.00016 | grad_wrt_V     0.00011\n",
      "epoch     252.000 | loss_total     0.84984 | train_MAE     0.72957 | valid_MAE     0.75464 | grad_wrt_mu     0.05329 | grad_wrt_b_per_user     0.00107 | grad_wrt_c_per_item     0.00061 | grad_wrt_U     0.00007 | grad_wrt_V     0.00005\n",
      "epoch     256.000 | loss_total     0.84776 | train_MAE     0.72909 | valid_MAE     0.75419 | grad_wrt_mu     0.10031 | grad_wrt_b_per_user     0.00102 | grad_wrt_c_per_item     0.00063 | grad_wrt_U     0.00013 | grad_wrt_V     0.00009\n",
      "epoch     260.000 | loss_total     0.84716 | train_MAE     0.72855 | valid_MAE     0.75366 | grad_wrt_mu     0.09211 | grad_wrt_b_per_user     0.00103 | grad_wrt_c_per_item     0.00064 | grad_wrt_U     0.00013 | grad_wrt_V     0.00008\n",
      "epoch     264.000 | loss_total     0.84842 | train_MAE     0.72933 | valid_MAE     0.75475 | grad_wrt_mu     0.05846 | grad_wrt_b_per_user     0.00105 | grad_wrt_c_per_item     0.00062 | grad_wrt_U     0.00008 | grad_wrt_V     0.00005\n",
      "epoch     268.000 | loss_total     0.84715 | train_MAE     0.72886 | valid_MAE     0.75433 | grad_wrt_mu     0.04838 | grad_wrt_b_per_user     0.00102 | grad_wrt_c_per_item     0.00062 | grad_wrt_U     0.00006 | grad_wrt_V     0.00004\n",
      "epoch     272.000 | loss_total     0.84739 | train_MAE     0.72862 | valid_MAE     0.75418 | grad_wrt_mu     0.01355 | grad_wrt_b_per_user     0.00102 | grad_wrt_c_per_item     0.00059 | grad_wrt_U     0.00002 | grad_wrt_V     0.00001\n"
     ]
    },
    {
     "name": "stdout",
     "output_type": "stream",
     "text": [
      "epoch     276.000 | loss_total     0.84691 | train_MAE     0.72861 | valid_MAE     0.75430 | grad_wrt_mu     0.02750 | grad_wrt_b_per_user     0.00107 | grad_wrt_c_per_item     0.00062 | grad_wrt_U     0.00004 | grad_wrt_V     0.00002\n",
      "epoch     280.000 | loss_total     0.84674 | train_MAE     0.72738 | valid_MAE     0.75298 | grad_wrt_mu     0.00051 | grad_wrt_b_per_user     0.00111 | grad_wrt_c_per_item     0.00066 | grad_wrt_U     0.00000 | grad_wrt_V     0.00000\n",
      "epoch     284.000 | loss_total     0.84555 | train_MAE     0.72786 | valid_MAE     0.75371 | grad_wrt_mu     0.00335 | grad_wrt_b_per_user     0.00102 | grad_wrt_c_per_item     0.00062 | grad_wrt_U     0.00001 | grad_wrt_V     0.00000\n",
      "epoch     288.000 | loss_total     0.84516 | train_MAE     0.72783 | valid_MAE     0.75378 | grad_wrt_mu     0.02695 | grad_wrt_b_per_user     0.00098 | grad_wrt_c_per_item     0.00061 | grad_wrt_U     0.00004 | grad_wrt_V     0.00002\n",
      "epoch     292.000 | loss_total     0.84611 | train_MAE     0.72757 | valid_MAE     0.75364 | grad_wrt_mu     0.05129 | grad_wrt_b_per_user     0.00110 | grad_wrt_c_per_item     0.00062 | grad_wrt_U     0.00008 | grad_wrt_V     0.00005\n",
      "epoch     296.000 | loss_total     0.84384 | train_MAE     0.72789 | valid_MAE     0.75416 | grad_wrt_mu     0.05730 | grad_wrt_b_per_user     0.00100 | grad_wrt_c_per_item     0.00060 | grad_wrt_U     0.00009 | grad_wrt_V     0.00006\n",
      "epoch     300.000 | loss_total     0.84597 | train_MAE     0.72755 | valid_MAE     0.75374 | grad_wrt_mu     0.02481 | grad_wrt_b_per_user     0.00110 | grad_wrt_c_per_item     0.00067 | grad_wrt_U     0.00004 | grad_wrt_V     0.00002\n",
      "epoch     304.000 | loss_total     0.84277 | train_MAE     0.72855 | valid_MAE     0.75501 | grad_wrt_mu     0.00959 | grad_wrt_b_per_user     0.00098 | grad_wrt_c_per_item     0.00059 | grad_wrt_U     0.00002 | grad_wrt_V     0.00001\n",
      "epoch     308.000 | loss_total     0.84460 | train_MAE     0.72655 | valid_MAE     0.75272 | grad_wrt_mu     0.06947 | grad_wrt_b_per_user     0.00101 | grad_wrt_c_per_item     0.00063 | grad_wrt_U     0.00012 | grad_wrt_V     0.00007\n",
      "epoch     312.000 | loss_total     0.84498 | train_MAE     0.72584 | valid_MAE     0.75202 | grad_wrt_mu     0.04933 | grad_wrt_b_per_user     0.00110 | grad_wrt_c_per_item     0.00063 | grad_wrt_U     0.00008 | grad_wrt_V     0.00005\n",
      "epoch     316.000 | loss_total     0.84295 | train_MAE     0.72614 | valid_MAE     0.75249 | grad_wrt_mu     0.02679 | grad_wrt_b_per_user     0.00104 | grad_wrt_c_per_item     0.00063 | grad_wrt_U     0.00005 | grad_wrt_V     0.00003\n",
      "epoch     320.000 | loss_total     0.84364 | train_MAE     0.72674 | valid_MAE     0.75333 | grad_wrt_mu     0.03835 | grad_wrt_b_per_user     0.00104 | grad_wrt_c_per_item     0.00064 | grad_wrt_U     0.00007 | grad_wrt_V     0.00004\n",
      "epoch     324.000 | loss_total     0.84183 | train_MAE     0.72730 | valid_MAE     0.75401 | grad_wrt_mu     0.08860 | grad_wrt_b_per_user     0.00099 | grad_wrt_c_per_item     0.00057 | grad_wrt_U     0.00015 | grad_wrt_V     0.00010\n",
      "epoch     328.000 | loss_total     0.84260 | train_MAE     0.72548 | valid_MAE     0.75191 | grad_wrt_mu     0.04184 | grad_wrt_b_per_user     0.00103 | grad_wrt_c_per_item     0.00059 | grad_wrt_U     0.00007 | grad_wrt_V     0.00005\n",
      "epoch     332.000 | loss_total     0.84044 | train_MAE     0.72475 | valid_MAE     0.75118 | grad_wrt_mu     0.04189 | grad_wrt_b_per_user     0.00099 | grad_wrt_c_per_item     0.00059 | grad_wrt_U     0.00008 | grad_wrt_V     0.00005\n",
      "epoch     336.000 | loss_total     0.84148 | train_MAE     0.72612 | valid_MAE     0.75306 | grad_wrt_mu     0.02403 | grad_wrt_b_per_user     0.00097 | grad_wrt_c_per_item     0.00057 | grad_wrt_U     0.00005 | grad_wrt_V     0.00003\n",
      "epoch     340.000 | loss_total     0.84104 | train_MAE     0.72554 | valid_MAE     0.75251 | grad_wrt_mu     0.03507 | grad_wrt_b_per_user     0.00098 | grad_wrt_c_per_item     0.00059 | grad_wrt_U     0.00007 | grad_wrt_V     0.00004\n",
      "epoch     344.000 | loss_total     0.84106 | train_MAE     0.72507 | valid_MAE     0.75204 | grad_wrt_mu     0.03267 | grad_wrt_b_per_user     0.00106 | grad_wrt_c_per_item     0.00064 | grad_wrt_U     0.00007 | grad_wrt_V     0.00004\n",
      "epoch     348.000 | loss_total     0.84015 | train_MAE     0.72475 | valid_MAE     0.75170 | grad_wrt_mu     0.07963 | grad_wrt_b_per_user     0.00097 | grad_wrt_c_per_item     0.00059 | grad_wrt_U     0.00016 | grad_wrt_V     0.00010\n",
      "epoch     352.000 | loss_total     0.84113 | train_MAE     0.72610 | valid_MAE     0.75356 | grad_wrt_mu     0.03919 | grad_wrt_b_per_user     0.00102 | grad_wrt_c_per_item     0.00062 | grad_wrt_U     0.00008 | grad_wrt_V     0.00005\n",
      "epoch     356.000 | loss_total     0.84044 | train_MAE     0.72465 | valid_MAE     0.75194 | grad_wrt_mu     0.07070 | grad_wrt_b_per_user     0.00099 | grad_wrt_c_per_item     0.00062 | grad_wrt_U     0.00014 | grad_wrt_V     0.00009\n",
      "epoch     360.000 | loss_total     0.84055 | train_MAE     0.72399 | valid_MAE     0.75113 | grad_wrt_mu     0.09539 | grad_wrt_b_per_user     0.00105 | grad_wrt_c_per_item     0.00063 | grad_wrt_U     0.00020 | grad_wrt_V     0.00013\n",
      "epoch     364.000 | loss_total     0.83904 | train_MAE     0.72439 | valid_MAE     0.75171 | grad_wrt_mu     0.04951 | grad_wrt_b_per_user     0.00101 | grad_wrt_c_per_item     0.00061 | grad_wrt_U     0.00010 | grad_wrt_V     0.00006\n",
      "epoch     368.000 | loss_total     0.83900 | train_MAE     0.72367 | valid_MAE     0.75091 | grad_wrt_mu     0.00452 | grad_wrt_b_per_user     0.00107 | grad_wrt_c_per_item     0.00059 | grad_wrt_U     0.00001 | grad_wrt_V     0.00001\n",
      "epoch     372.000 | loss_total     0.83999 | train_MAE     0.72430 | valid_MAE     0.75179 | grad_wrt_mu     0.01371 | grad_wrt_b_per_user     0.00103 | grad_wrt_c_per_item     0.00066 | grad_wrt_U     0.00003 | grad_wrt_V     0.00002\n",
      "epoch     376.000 | loss_total     0.83844 | train_MAE     0.72402 | valid_MAE     0.75153 | grad_wrt_mu     0.08631 | grad_wrt_b_per_user     0.00101 | grad_wrt_c_per_item     0.00060 | grad_wrt_U     0.00019 | grad_wrt_V     0.00012\n",
      "epoch     380.000 | loss_total     0.83900 | train_MAE     0.72525 | valid_MAE     0.75299 | grad_wrt_mu     0.04248 | grad_wrt_b_per_user     0.00100 | grad_wrt_c_per_item     0.00058 | grad_wrt_U     0.00009 | grad_wrt_V     0.00006\n",
      "epoch     384.000 | loss_total     0.83971 | train_MAE     0.72455 | valid_MAE     0.75213 | grad_wrt_mu     0.00558 | grad_wrt_b_per_user     0.00102 | grad_wrt_c_per_item     0.00063 | grad_wrt_U     0.00001 | grad_wrt_V     0.00001\n",
      "epoch     388.000 | loss_total     0.83932 | train_MAE     0.72462 | valid_MAE     0.75237 | grad_wrt_mu     0.02410 | grad_wrt_b_per_user     0.00097 | grad_wrt_c_per_item     0.00063 | grad_wrt_U     0.00005 | grad_wrt_V     0.00004\n",
      "epoch     392.000 | loss_total     0.83817 | train_MAE     0.72358 | valid_MAE     0.75118 | grad_wrt_mu     0.02382 | grad_wrt_b_per_user     0.00103 | grad_wrt_c_per_item     0.00060 | grad_wrt_U     0.00005 | grad_wrt_V     0.00003\n",
      "epoch     396.000 | loss_total     0.83943 | train_MAE     0.72385 | valid_MAE     0.75167 | grad_wrt_mu     0.09161 | grad_wrt_b_per_user     0.00102 | grad_wrt_c_per_item     0.00063 | grad_wrt_U     0.00022 | grad_wrt_V     0.00013\n",
      "epoch     400.000 | loss_total     0.83771 | train_MAE     0.72349 | valid_MAE     0.75152 | grad_wrt_mu     0.06384 | grad_wrt_b_per_user     0.00102 | grad_wrt_c_per_item     0.00058 | grad_wrt_U     0.00016 | grad_wrt_V     0.00009\n",
      "epoch     404.000 | loss_total     0.83764 | train_MAE     0.72371 | valid_MAE     0.75188 | grad_wrt_mu     0.03330 | grad_wrt_b_per_user     0.00099 | grad_wrt_c_per_item     0.00057 | grad_wrt_U     0.00008 | grad_wrt_V     0.00005\n",
      "epoch     408.000 | loss_total     0.83912 | train_MAE     0.72347 | valid_MAE     0.75161 | grad_wrt_mu     0.00776 | grad_wrt_b_per_user     0.00100 | grad_wrt_c_per_item     0.00061 | grad_wrt_U     0.00002 | grad_wrt_V     0.00001\n",
      "epoch     412.000 | loss_total     0.83800 | train_MAE     0.72244 | valid_MAE     0.75029 | grad_wrt_mu     0.01635 | grad_wrt_b_per_user     0.00105 | grad_wrt_c_per_item     0.00057 | grad_wrt_U     0.00004 | grad_wrt_V     0.00002\n"
     ]
    },
    {
     "name": "stdout",
     "output_type": "stream",
     "text": [
      "epoch     416.000 | loss_total     0.83706 | train_MAE     0.72245 | valid_MAE     0.75036 | grad_wrt_mu     0.06908 | grad_wrt_b_per_user     0.00100 | grad_wrt_c_per_item     0.00063 | grad_wrt_U     0.00017 | grad_wrt_V     0.00011\n",
      "epoch     420.000 | loss_total     0.83677 | train_MAE     0.72242 | valid_MAE     0.75041 | grad_wrt_mu     0.05032 | grad_wrt_b_per_user     0.00102 | grad_wrt_c_per_item     0.00061 | grad_wrt_U     0.00013 | grad_wrt_V     0.00008\n",
      "epoch     424.000 | loss_total     0.83777 | train_MAE     0.72233 | valid_MAE     0.75028 | grad_wrt_mu     0.03391 | grad_wrt_b_per_user     0.00108 | grad_wrt_c_per_item     0.00062 | grad_wrt_U     0.00008 | grad_wrt_V     0.00006\n",
      "epoch     428.000 | loss_total     0.83688 | train_MAE     0.72265 | valid_MAE     0.75087 | grad_wrt_mu     0.03650 | grad_wrt_b_per_user     0.00100 | grad_wrt_c_per_item     0.00062 | grad_wrt_U     0.00010 | grad_wrt_V     0.00006\n",
      "epoch     432.000 | loss_total     0.83677 | train_MAE     0.72254 | valid_MAE     0.75101 | grad_wrt_mu     0.12565 | grad_wrt_b_per_user     0.00102 | grad_wrt_c_per_item     0.00060 | grad_wrt_U     0.00032 | grad_wrt_V     0.00021\n",
      "epoch     436.000 | loss_total     0.83742 | train_MAE     0.72249 | valid_MAE     0.75103 | grad_wrt_mu     0.11781 | grad_wrt_b_per_user     0.00106 | grad_wrt_c_per_item     0.00063 | grad_wrt_U     0.00029 | grad_wrt_V     0.00020\n",
      "epoch     440.000 | loss_total     0.83655 | train_MAE     0.72233 | valid_MAE     0.75088 | grad_wrt_mu     0.07789 | grad_wrt_b_per_user     0.00104 | grad_wrt_c_per_item     0.00058 | grad_wrt_U     0.00022 | grad_wrt_V     0.00013\n",
      "epoch     444.000 | loss_total     0.83667 | train_MAE     0.72274 | valid_MAE     0.75145 | grad_wrt_mu     0.03685 | grad_wrt_b_per_user     0.00104 | grad_wrt_c_per_item     0.00060 | grad_wrt_U     0.00010 | grad_wrt_V     0.00006\n",
      "epoch     448.000 | loss_total     0.83700 | train_MAE     0.72284 | valid_MAE     0.75125 | grad_wrt_mu     0.00739 | grad_wrt_b_per_user     0.00104 | grad_wrt_c_per_item     0.00058 | grad_wrt_U     0.00002 | grad_wrt_V     0.00001\n",
      "epoch     452.000 | loss_total     0.83779 | train_MAE     0.72230 | valid_MAE     0.75059 | grad_wrt_mu     0.03142 | grad_wrt_b_per_user     0.00112 | grad_wrt_c_per_item     0.00063 | grad_wrt_U     0.00009 | grad_wrt_V     0.00005\n",
      "epoch     456.000 | loss_total     0.83541 | train_MAE     0.72281 | valid_MAE     0.75140 | grad_wrt_mu     0.04678 | grad_wrt_b_per_user     0.00099 | grad_wrt_c_per_item     0.00061 | grad_wrt_U     0.00013 | grad_wrt_V     0.00009\n",
      "epoch     460.000 | loss_total     0.83636 | train_MAE     0.72335 | valid_MAE     0.75205 | grad_wrt_mu     0.01945 | grad_wrt_b_per_user     0.00101 | grad_wrt_c_per_item     0.00062 | grad_wrt_U     0.00005 | grad_wrt_V     0.00003\n",
      "epoch     464.000 | loss_total     0.83503 | train_MAE     0.72240 | valid_MAE     0.75061 | grad_wrt_mu     0.00052 | grad_wrt_b_per_user     0.00101 | grad_wrt_c_per_item     0.00062 | grad_wrt_U     0.00000 | grad_wrt_V     0.00000\n",
      "epoch     468.000 | loss_total     0.83437 | train_MAE     0.72190 | valid_MAE     0.74978 | grad_wrt_mu     0.05172 | grad_wrt_b_per_user     0.00103 | grad_wrt_c_per_item     0.00061 | grad_wrt_U     0.00015 | grad_wrt_V     0.00010\n",
      "epoch     472.000 | loss_total     0.83379 | train_MAE     0.72276 | valid_MAE     0.75059 | grad_wrt_mu     0.04403 | grad_wrt_b_per_user     0.00098 | grad_wrt_c_per_item     0.00060 | grad_wrt_U     0.00014 | grad_wrt_V     0.00008\n",
      "epoch     476.000 | loss_total     0.83481 | train_MAE     0.72165 | valid_MAE     0.74954 | grad_wrt_mu     0.05773 | grad_wrt_b_per_user     0.00103 | grad_wrt_c_per_item     0.00061 | grad_wrt_U     0.00017 | grad_wrt_V     0.00011\n",
      "epoch     480.000 | loss_total     0.83569 | train_MAE     0.72311 | valid_MAE     0.75106 | grad_wrt_mu     0.09541 | grad_wrt_b_per_user     0.00109 | grad_wrt_c_per_item     0.00062 | grad_wrt_U     0.00031 | grad_wrt_V     0.00019\n",
      "epoch     484.000 | loss_total     0.83544 | train_MAE     0.72180 | valid_MAE     0.74988 | grad_wrt_mu     0.13318 | grad_wrt_b_per_user     0.00105 | grad_wrt_c_per_item     0.00056 | grad_wrt_U     0.00042 | grad_wrt_V     0.00026\n",
      "epoch     488.000 | loss_total     0.83672 | train_MAE     0.72172 | valid_MAE     0.74978 | grad_wrt_mu     0.02237 | grad_wrt_b_per_user     0.00110 | grad_wrt_c_per_item     0.00065 | grad_wrt_U     0.00007 | grad_wrt_V     0.00004\n",
      "epoch     492.000 | loss_total     0.83487 | train_MAE     0.72197 | valid_MAE     0.75033 | grad_wrt_mu     0.00259 | grad_wrt_b_per_user     0.00100 | grad_wrt_c_per_item     0.00059 | grad_wrt_U     0.00001 | grad_wrt_V     0.00001\n",
      "epoch     496.000 | loss_total     0.83417 | train_MAE     0.72214 | valid_MAE     0.75088 | grad_wrt_mu     0.03903 | grad_wrt_b_per_user     0.00100 | grad_wrt_c_per_item     0.00059 | grad_wrt_U     0.00013 | grad_wrt_V     0.00008\n",
      "epoch     499.986 | loss_total     0.83503 | train_MAE     0.72126 | valid_MAE     0.74975 | grad_wrt_mu     0.04018 | grad_wrt_b_per_user     0.00102 | grad_wrt_c_per_item     0.00063 | grad_wrt_U     0.00013 | grad_wrt_V     0.00008\n"
     ]
    }
   ],
   "source": [
    "# Create the model and initialize its parameters\n",
    "# to have right scale as the dataset (right num users and items)\n",
    "noreg_k2_model = CollabFilterOneVectorPerItem(\n",
    "    n_epochs=500, batch_size=1000, step_size=0.1,\n",
    "    n_factors=2, alpha=0.0)\n",
    "noreg_k2_model.init_parameter_dict(n_users, n_items, train_tuple)\n",
    "\n",
    "# Fit the model with SGD\n",
    "noreg_k2_model.fit(train_tuple, valid_tuple)"
   ]
  },
  {
   "cell_type": "code",
   "execution_count": 15,
   "metadata": {},
   "outputs": [
    {
     "name": "stdout",
     "output_type": "stream",
     "text": [
      "Final Train MAE = 0.7212616205895953\n",
      "Final Valid MAE = 0.749751997378097\n",
      "Final Test MAE = 0.7416190895402393\n"
     ]
    }
   ],
   "source": [
    "print(f\"Final Train MAE = {noreg_k2_model.trace_mae_train[-1]}\")\n",
    "print(f\"Final Valid MAE = {noreg_k2_model.trace_mae_valid[-1]}\")\n",
    "\n",
    "noreg_k2_final_mu = noreg_k2_model.param_dict['mu']\n",
    "noreg_k2_final_b_per_user = noreg_k2_model.param_dict['b_per_user']\n",
    "noreg_k2_final_c_per_item = noreg_k2_model.param_dict['c_per_item']\n",
    "noreg_k2_final_U = noreg_k2_model.param_dict['U']\n",
    "noreg_k2_final_V = noreg_k2_model.param_dict['V']\n",
    "\n",
    "noreg_k2_test_yhat = noreg_k2_model.predict(test_tuple[0], test_tuple[1], mu=noreg_k2_final_mu, b_per_user=noreg_k2_final_b_per_user, c_per_item=noreg_k2_final_c_per_item, U=noreg_k2_final_U, V=noreg_k2_final_V)\n",
    "noreg_k2_test_mae = ag_np.mean(ag_np.absolute(test_y - noreg_k2_test_yhat))\n",
    "print(f\"Final Test MAE = {noreg_k2_test_mae}\")"
   ]
  },
  {
   "cell_type": "code",
   "execution_count": 16,
   "metadata": {},
   "outputs": [
    {
     "data": {
      "text/plain": [
       "Text(0.5, 1.0, 'Vector Baseline Model Loss over Epochs, K = 2')"
      ]
     },
     "execution_count": 16,
     "metadata": {},
     "output_type": "execute_result"
    },
    {
     "data": {
      "image/png": "[encoded data removed]",
      "text/plain": [
       "<Figure size 432x288 with 1 Axes>"
      ]
     },
     "metadata": {
      "needs_background": "light"
     },
     "output_type": "display_data"
    }
   ],
   "source": [
    "noreg_k2_epochs = ag_np.array(noreg_k2_model.trace_epoch)\n",
    "noreg_k2_epochs_of_interest = ag_np.argwhere(noreg_k2_epochs >= 2.0)\n",
    "\n",
    "noreg_k2_train_loss = ag_np.array(noreg_k2_model.trace_mae_train)[noreg_k2_epochs_of_interest]\n",
    "noreg_k2_valid_loss = ag_np.array(noreg_k2_model.trace_mae_valid)[noreg_k2_epochs_of_interest]\n",
    "\n",
    "plt.plot(noreg_k2_epochs[noreg_k2_epochs_of_interest], noreg_k2_train_loss, 'b.-', label='Train set loss')\n",
    "plt.plot(noreg_k2_epochs[noreg_k2_epochs_of_interest], noreg_k2_valid_loss, 'g.-', label='Validation set loss')\n",
    "plt.legend()\n",
    "plt.xlabel('Epochs')\n",
    "plt.ylabel('MAE Loss')\n",
    "plt.title('Vector Baseline Model Loss over Epochs, K = 2')"
   ]
  },
  {
   "cell_type": "code",
   "execution_count": 22,
   "metadata": {},
   "outputs": [],
   "source": [
    "save_predictions(noreg_k2_model, \n",
    "                 'noreg_k2_model', \n",
    "                 noreg_k2_final_mu, \n",
    "                 noreg_k2_final_b_per_user, \n",
    "                 noreg_k2_final_c_per_item, \n",
    "                 noreg_k2_final_U, \n",
    "                 noreg_k2_final_V)\n",
    "#MAE on Leaderboard = 0.7401"
   ]
  },
  {
   "cell_type": "markdown",
   "metadata": {},
   "source": [
    "## Using Surprise"
   ]
  },
  {
   "cell_type": "code",
   "execution_count": 34,
   "metadata": {},
   "outputs": [],
   "source": [
    "from surprise import accuracy, BaselineOnly, Dataset, Reader, SVD\n",
    "from surprise.model_selection import cross_validate, train_test_split"
   ]
  },
  {
   "cell_type": "markdown",
   "metadata": {},
   "source": [
    "### Baseline model"
   ]
  },
  {
   "cell_type": "code",
   "execution_count": 35,
   "metadata": {},
   "outputs": [
    {
     "name": "stdout",
     "output_type": "stream",
     "text": [
      "Estimating biases using als...\n",
      "Estimating biases using als...\n",
      "Estimating biases using als...\n",
      "Estimating biases using als...\n",
      "Estimating biases using als...\n",
      "Evaluating RMSE, MAE of algorithm BaselineOnly on 5 split(s).\n",
      "\n",
      "                  Fold 1  Fold 2  Fold 3  Fold 4  Fold 5  Mean    Std     \n",
      "RMSE (testset)    0.9459  0.9433  0.9459  0.9475  0.9453  0.9456  0.0013  \n",
      "MAE (testset)     0.7509  0.7462  0.7484  0.7546  0.7499  0.7500  0.0028  \n",
      "Fit time          0.33    0.42    0.39    0.36    0.37    0.37    0.03    \n",
      "Test time         0.20    0.11    0.11    0.18    0.11    0.14    0.04    \n"
     ]
    },
    {
     "data": {
      "text/plain": [
       "{'test_rmse': array([0.94593153, 0.94329908, 0.94586547, 0.94748469, 0.94533002]),\n",
       " 'test_mae': array([0.75092657, 0.74621599, 0.74836685, 0.75461334, 0.74986745]),\n",
       " 'fit_time': (0.32837605476379395,\n",
       "  0.4180569648742676,\n",
       "  0.3900129795074463,\n",
       "  0.35918116569519043,\n",
       "  0.3659648895263672),\n",
       " 'test_time': (0.19675898551940918,\n",
       "  0.10978984832763672,\n",
       "  0.11285400390625,\n",
       "  0.18480205535888672,\n",
       "  0.10832476615905762)}"
      ]
     },
     "execution_count": 35,
     "metadata": {},
     "output_type": "execute_result"
    }
   ],
   "source": [
    "# movie data loaded into a pandas dataframe\n",
    "df = pd.read_csv(os.path.join('data_movie_lens_100k', \"ratings_all_development_set.csv\"))\n",
    "\n",
    "# A reader is still needed but only the rating_scale param is requiered.\n",
    "reader = Reader(rating_scale=(1, 5))\n",
    "\n",
    "# The columns must correspond to user id, item id and ratings (in that order).\n",
    "data = Dataset.load_from_df(df[['user_id', 'item_id', 'rating']], reader)\n",
    "\n",
    "# We can now use this dataset as we please, e.g. calling cross_validate\n",
    "cross_validate(BaselineOnly(), data, verbose=True)"
   ]
  },
  {
   "cell_type": "markdown",
   "metadata": {},
   "source": [
    "### Using SVD"
   ]
  },
  {
   "cell_type": "code",
   "execution_count": 42,
   "metadata": {},
   "outputs": [
    {
     "name": "stdout",
     "output_type": "stream",
     "text": [
      "MAE:  0.7523\n",
      "MAE:  0.7441\n",
      "MAE:  0.7508\n"
     ]
    }
   ],
   "source": [
    "from surprise.model_selection import KFold\n",
    "\n",
    "# define a cross-validation iterator\n",
    "kf = KFold(n_splits=5)\n",
    "\n",
    "algo = SVD()\n",
    "\n",
    "for trainset, testset in kf.split(data):\n",
    "\n",
    "    # train and test algorithm.\n",
    "    algo.fit(trainset)\n",
    "    predictions = algo.test(testset)\n",
    "\n",
    "    # Compute and print Mean Absolute Error\n",
    "    accuracy.mae(predictions, verbose=True)"
   ]
  },
  {
   "cell_type": "code",
   "execution_count": 29,
   "metadata": {},
   "outputs": [
    {
     "name": "stdout",
     "output_type": "stream",
     "text": [
      "Evaluating MAE of algorithm SVD on 5 split(s).\n",
      "\n",
      "                  Fold 1  Fold 2  Fold 3  Fold 4  Fold 5  Mean    Std     \n",
      "MAE (testset)     0.7491  0.7418  0.7473  0.7388  0.7389  0.7432  0.0043  \n",
      "Fit time          4.02    4.06    4.09    4.09    4.07    4.07    0.03    \n",
      "Test time         0.10    0.10    0.10    0.17    0.10    0.11    0.03    \n"
     ]
    },
    {
     "data": {
      "text/plain": [
       "{'test_mae': array([0.74906329, 0.74175483, 0.74730513, 0.73878851, 0.73889772]),\n",
       " 'fit_time': (4.020789861679077,\n",
       "  4.061262130737305,\n",
       "  4.09473991394043,\n",
       "  4.0887322425842285,\n",
       "  4.0674519538879395),\n",
       " 'test_time': (0.09655976295471191,\n",
       "  0.09821486473083496,\n",
       "  0.10126805305480957,\n",
       "  0.16718697547912598,\n",
       "  0.09628105163574219)}"
      ]
     },
     "execution_count": 29,
     "metadata": {},
     "output_type": "execute_result"
    }
   ],
   "source": [
    "trainset, testset = train_test_split(data, test_size=.25)\n",
    "\n",
    "# We'll use the famous SVD algorithm.\n",
    "algo = SVD()\n",
    "\n",
    "# Train the algorithm on the trainset, and predict ratings for the testset\n",
    "algo.fit(trainset)\n",
    "predictions = algo.test(testset)\n",
    "\n",
    "# Then compute RMSE\n",
    "accuracy.mae(predictions)"
   ]
  },
  {
   "cell_type": "code",
   "execution_count": null,
   "metadata": {},
   "outputs": [],
   "source": []
  }
 ],
 "metadata": {
  "kernelspec": {
   "display_name": "Python 3",
   "language": "python",
   "name": "python3"
  },
  "language_info": {
   "codemirror_mode": {
    "name": "ipython",
    "version": 3
   },
   "file_extension": ".py",
   "mimetype": "text/x-python",
   "name": "python",
   "nbconvert_exporter": "python",
   "pygments_lexer": "ipython3",
   "version": "3.8.5"
  }
 },
 "nbformat": 4,
 "nbformat_minor": 4
}
