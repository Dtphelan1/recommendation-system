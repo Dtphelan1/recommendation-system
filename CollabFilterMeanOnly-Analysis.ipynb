{
 "cells": [
  {
   "cell_type": "markdown",
   "metadata": {},
   "source": [
    "# Train & Analysis of Baseline Model"
   ]
  },
  {
   "cell_type": "code",
   "execution_count": 1,
   "metadata": {},
   "outputs": [],
   "source": [
    "import autograd.numpy as ag_np\n",
    "\n",
    "# Use helper packages\n",
    "from AbstractBaseCollabFilterSGD import AbstractBaseCollabFilterSGD\n",
    "from train_valid_test_loader import load_train_valid_test_datasets\n",
    "\n",
    "# Some packages you might need (uncomment as necessary)\n",
    "import pandas as pd\n",
    "import matplotlib.pyplot as plt\n",
    "\n",
    "from CollabFilterMeanOnly import CollabFilterMeanOnly"
   ]
  },
  {
   "cell_type": "code",
   "execution_count": 2,
   "metadata": {},
   "outputs": [
    {
     "name": "stdout",
     "output_type": "stream",
     "text": [
      "epoch       0.000 | loss_total     0.00136 | train_MAE     3.53059 | valid_MAE     3.54504 | grad_wrt_mu     0.00070\n",
      "epoch       0.143 | loss_total     0.00138 | train_MAE     3.53052 | valid_MAE     3.54497 | grad_wrt_mu     0.00071\n",
      "epoch       0.286 | loss_total     0.00138 | train_MAE     3.53044 | valid_MAE     3.54489 | grad_wrt_mu     0.00071\n",
      "epoch       0.429 | loss_total     0.00136 | train_MAE     3.53037 | valid_MAE     3.54482 | grad_wrt_mu     0.00070\n",
      "epoch       0.571 | loss_total     0.00137 | train_MAE     3.53030 | valid_MAE     3.54475 | grad_wrt_mu     0.00070\n",
      "epoch       0.714 | loss_total     0.00137 | train_MAE     3.53023 | valid_MAE     3.54468 | grad_wrt_mu     0.00071\n",
      "epoch       0.857 | loss_total     0.00138 | train_MAE     3.53016 | valid_MAE     3.54461 | grad_wrt_mu     0.00071\n",
      "epoch       1.000 | loss_total     0.00137 | train_MAE     3.53009 | valid_MAE     3.54454 | grad_wrt_mu     0.00071\n",
      "epoch       1.143 | loss_total     0.00138 | train_MAE     3.53002 | valid_MAE     3.54447 | grad_wrt_mu     0.00071\n",
      "epoch       1.286 | loss_total     0.00137 | train_MAE     3.52995 | valid_MAE     3.54440 | grad_wrt_mu     0.00071\n",
      "epoch       1.429 | loss_total     0.00138 | train_MAE     3.52988 | valid_MAE     3.54433 | grad_wrt_mu     0.00071\n",
      "epoch       1.571 | loss_total     0.00138 | train_MAE     3.52981 | valid_MAE     3.54426 | grad_wrt_mu     0.00071\n",
      "epoch       1.714 | loss_total     0.00136 | train_MAE     3.52974 | valid_MAE     3.54419 | grad_wrt_mu     0.00070\n",
      "epoch       1.857 | loss_total     0.00137 | train_MAE     3.52967 | valid_MAE     3.54412 | grad_wrt_mu     0.00071\n",
      "epoch       2.000 | loss_total     0.00138 | train_MAE     3.52960 | valid_MAE     3.54405 | grad_wrt_mu     0.00071\n",
      "epoch       2.571 | loss_total     0.00137 | train_MAE     3.52932 | valid_MAE     3.54377 | grad_wrt_mu     0.00070\n",
      "epoch       3.000 | loss_total     0.00137 | train_MAE     3.52910 | valid_MAE     3.54355 | grad_wrt_mu     0.00070\n",
      "epoch       3.571 | loss_total     0.00137 | train_MAE     3.52882 | valid_MAE     3.54327 | grad_wrt_mu     0.00071\n",
      "epoch       4.000 | loss_total     0.00137 | train_MAE     3.52861 | valid_MAE     3.54306 | grad_wrt_mu     0.00071\n",
      "epoch       4.571 | loss_total     0.00137 | train_MAE     3.52833 | valid_MAE     3.54278 | grad_wrt_mu     0.00071\n",
      "epoch       5.000 | loss_total     0.00137 | train_MAE     3.52812 | valid_MAE     3.54257 | grad_wrt_mu     0.00071\n",
      "epoch       5.571 | loss_total     0.00137 | train_MAE     3.52783 | valid_MAE     3.54228 | grad_wrt_mu     0.00070\n",
      "epoch       6.000 | loss_total     0.00137 | train_MAE     3.52762 | valid_MAE     3.54207 | grad_wrt_mu     0.00071\n",
      "epoch       6.571 | loss_total     0.00137 | train_MAE     3.52734 | valid_MAE     3.54179 | grad_wrt_mu     0.00070\n",
      "epoch       7.000 | loss_total     0.00137 | train_MAE     3.52713 | valid_MAE     3.54158 | grad_wrt_mu     0.00071\n",
      "epoch       7.571 | loss_total     0.00137 | train_MAE     3.52685 | valid_MAE     3.54130 | grad_wrt_mu     0.00071\n",
      "epoch       8.000 | loss_total     0.00137 | train_MAE     3.52663 | valid_MAE     3.54108 | grad_wrt_mu     0.00071\n",
      "epoch       9.000 | loss_total     0.00137 | train_MAE     3.52614 | valid_MAE     3.54059 | grad_wrt_mu     0.00071\n",
      "epoch       9.857 | loss_total     0.00137 | train_MAE     3.52572 | valid_MAE     3.54017 | grad_wrt_mu     0.00071\n"
     ]
    }
   ],
   "source": [
    "# Load the dataset\n",
    "train_tuple, valid_tuple, test_tuple, n_users, n_items = \\\n",
    "    load_train_valid_test_datasets()\n",
    "# Create the model and initialize its parameters\n",
    "# to have right scale as the dataset (right num users and items)\n",
    "model = CollabFilterMeanOnly(\n",
    "    n_epochs=10, batch_size=10000, step_size=0.1)\n",
    "model.init_parameter_dict(n_users, n_items, train_tuple)\n",
    "\n",
    "# Fit the model with SGD\n",
    "model.fit(train_tuple, valid_tuple)"
   ]
  },
  {
   "cell_type": "code",
   "execution_count": 3,
   "metadata": {},
   "outputs": [
    {
     "name": "stdout",
     "output_type": "stream",
     "text": [
      "Final mu = 0.004939411075579074\n",
      "Final Train MAE = 3.5257168498328473\n",
      "Final Valid MAE = 3.5401671643701906\n"
     ]
    }
   ],
   "source": [
    "final_mu = model.param_dict['mu'][0]\n",
    "print(f\"Final mu = {final_mu}\")\n",
    "print(f\"Final Train MAE = {model.trace_mae_train[-1]}\")\n",
    "print(f\"Final Valid MAE = {model.trace_mae_valid[-1]}\")"
   ]
  },
  {
   "cell_type": "code",
   "execution_count": 4,
   "metadata": {},
   "outputs": [
    {
     "name": "stdout",
     "output_type": "stream",
     "text": [
      "Final Test MAE = 3.50126058892442\n"
     ]
    }
   ],
   "source": [
    "test_y = test_tuple[2]\n",
    "test_yhat = model.predict(test_tuple[0], test_tuple[1], mu=final_mu)\n",
    "test_mae = ag_np.mean(ag_np.absolute(test_y - test_yhat))\n",
    "print(f\"Final Test MAE = {test_mae}\")"
   ]
  },
  {
   "cell_type": "code",
   "execution_count": 5,
   "metadata": {},
   "outputs": [],
   "source": [
    "epochs = ag_np.array(model.trace_epoch)\n",
    "epochs_of_interest = ag_np.argwhere(epochs >= 2.0)\n",
    "# epochs[epochs_of_interest]"
   ]
  },
  {
   "cell_type": "code",
   "execution_count": 6,
   "metadata": {},
   "outputs": [],
   "source": [
    "train_loss = ag_np.array(model.trace_mae_train)[epochs_of_interest]\n",
    "valid_loss = ag_np.array( model.trace_mae_valid)[epochs_of_interest]"
   ]
  },
  {
   "cell_type": "code",
   "execution_count": 7,
   "metadata": {},
   "outputs": [
    {
     "data": {
      "text/plain": [
       "Text(0.5, 1.0, 'Baseline Model Loss over Epochs, Batch Size = 10000')"
      ]
     },
     "execution_count": 7,
     "metadata": {},
     "output_type": "execute_result"
    },
    {
     "data": {
      "image/png": "[encoded data removed]",
      "text/plain": [
       "<Figure size 432x288 with 1 Axes>"
      ]
     },
     "metadata": {
      "needs_background": "light"
     },
     "output_type": "display_data"
    }
   ],
   "source": [
    "plt.plot( epochs[epochs_of_interest], train_loss, 'b.-', label='Train set loss')\n",
    "plt.plot( epochs[epochs_of_interest], valid_loss, 'g.-', label='Validation set loss')\n",
    "plt.legend()\n",
    "plt.xlabel('Epochs')\n",
    "plt.ylabel('MAE Loss')\n",
    "plt.title('Baseline Model Loss over Epochs, Batch Size = 10000')"
   ]
  },
  {
   "cell_type": "markdown",
   "metadata": {},
   "source": [
    "## Baseline Model, Batch size = 100"
   ]
  },
  {
   "cell_type": "code",
   "execution_count": 8,
   "metadata": {},
   "outputs": [
    {
     "name": "stdout",
     "output_type": "stream",
     "text": [
      "epoch       0.000 | loss_total     0.13410 | train_MAE     3.53059 | valid_MAE     3.54504 | grad_wrt_mu     0.07020\n",
      "epoch       0.001 | loss_total     0.14179 | train_MAE     3.52357 | valid_MAE     3.53802 | grad_wrt_mu     0.07206\n",
      "epoch       0.003 | loss_total     0.13929 | train_MAE     3.51636 | valid_MAE     3.53081 | grad_wrt_mu     0.07112\n",
      "epoch       0.004 | loss_total     0.13290 | train_MAE     3.50925 | valid_MAE     3.52370 | grad_wrt_mu     0.06997\n",
      "epoch       0.126 | loss_total     0.11098 | train_MAE     2.96272 | valid_MAE     2.97717 | grad_wrt_mu     0.06304\n",
      "epoch       0.250 | loss_total     0.06947 | train_MAE     2.49219 | valid_MAE     2.50639 | grad_wrt_mu     0.04832\n",
      "epoch       0.376 | loss_total     0.05197 | train_MAE     2.13846 | valid_MAE     2.15040 | grad_wrt_mu     0.03966\n",
      "epoch       0.500 | loss_total     0.04482 | train_MAE     1.84826 | valid_MAE     1.85834 | grad_wrt_mu     0.03424\n",
      "epoch       0.626 | loss_total     0.02922 | train_MAE     1.61583 | valid_MAE     1.62446 | grad_wrt_mu     0.02865\n",
      "epoch       0.750 | loss_total     0.03018 | train_MAE     1.46196 | valid_MAE     1.46978 | grad_wrt_mu     0.02672\n",
      "epoch       0.876 | loss_total     0.02099 | train_MAE     1.33138 | valid_MAE     1.33851 | grad_wrt_mu     0.01711\n",
      "epoch       1.000 | loss_total     0.02034 | train_MAE     1.22211 | valid_MAE     1.22866 | grad_wrt_mu     0.01655\n",
      "epoch       1.126 | loss_total     0.01717 | train_MAE     1.13066 | valid_MAE     1.13673 | grad_wrt_mu     0.01654\n",
      "epoch       1.250 | loss_total     0.01520 | train_MAE     1.05502 | valid_MAE     1.06069 | grad_wrt_mu     0.01321\n",
      "epoch       1.376 | loss_total     0.01541 | train_MAE     1.00060 | valid_MAE     1.00582 | grad_wrt_mu     0.01003\n",
      "epoch       1.500 | loss_total     0.01531 | train_MAE     0.99134 | valid_MAE     0.99574 | grad_wrt_mu     0.01154\n",
      "epoch       1.626 | loss_total     0.01578 | train_MAE     0.98393 | valid_MAE     0.98767 | grad_wrt_mu     0.00779\n",
      "epoch       1.750 | loss_total     0.01357 | train_MAE     0.97769 | valid_MAE     0.98089 | grad_wrt_mu     0.00665\n",
      "epoch       1.876 | loss_total     0.01258 | train_MAE     0.97235 | valid_MAE     0.97507 | grad_wrt_mu     0.00348\n",
      "epoch       2.000 | loss_total     0.01312 | train_MAE     0.96794 | valid_MAE     0.97028 | grad_wrt_mu     0.00627\n",
      "epoch       2.500 | loss_total     0.01330 | train_MAE     0.95637 | valid_MAE     0.95768 | grad_wrt_mu     0.00436\n",
      "epoch       3.000 | loss_total     0.01282 | train_MAE     0.95005 | valid_MAE     0.95081 | grad_wrt_mu     0.00141\n",
      "epoch       3.500 | loss_total     0.01270 | train_MAE     0.94729 | valid_MAE     0.94781 | grad_wrt_mu     0.00131\n",
      "epoch       4.000 | loss_total     0.01268 | train_MAE     0.94582 | valid_MAE     0.94620 | grad_wrt_mu     0.00104\n",
      "epoch       4.500 | loss_total     0.01266 | train_MAE     0.94500 | valid_MAE     0.94532 | grad_wrt_mu     0.00449\n",
      "epoch       5.000 | loss_total     0.01268 | train_MAE     0.94494 | valid_MAE     0.94524 | grad_wrt_mu     0.00168\n",
      "epoch       5.500 | loss_total     0.01269 | train_MAE     0.94492 | valid_MAE     0.94522 | grad_wrt_mu     0.00367\n",
      "epoch       6.000 | loss_total     0.01267 | train_MAE     0.94463 | valid_MAE     0.94491 | grad_wrt_mu     0.00262\n",
      "epoch       6.500 | loss_total     0.01270 | train_MAE     0.94448 | valid_MAE     0.94475 | grad_wrt_mu     0.00179\n",
      "epoch       7.000 | loss_total     0.01267 | train_MAE     0.94450 | valid_MAE     0.94476 | grad_wrt_mu     0.00200\n",
      "epoch       7.500 | loss_total     0.01265 | train_MAE     0.94456 | valid_MAE     0.94484 | grad_wrt_mu     0.00139\n",
      "epoch       8.000 | loss_total     0.01267 | train_MAE     0.94445 | valid_MAE     0.94471 | grad_wrt_mu     0.00359\n",
      "epoch       9.000 | loss_total     0.01268 | train_MAE     0.94432 | valid_MAE     0.94457 | grad_wrt_mu     0.00183\n",
      "epoch       9.999 | loss_total     0.01267 | train_MAE     0.94436 | valid_MAE     0.94461 | grad_wrt_mu     0.00417\n"
     ]
    }
   ],
   "source": [
    "# Load the dataset\n",
    "train_tuple, valid_tuple, test_tuple, n_users, n_items = \\\n",
    "    load_train_valid_test_datasets()\n",
    "# Create the model and initialize its parameters\n",
    "# to have right scale as the dataset (right num users and items)\n",
    "model = CollabFilterMeanOnly(\n",
    "    n_epochs=10, batch_size=100, step_size=0.1)\n",
    "model.init_parameter_dict(n_users, n_items, train_tuple)\n",
    "\n",
    "# Fit the model with SGD\n",
    "model.fit(train_tuple, valid_tuple)"
   ]
  },
  {
   "cell_type": "code",
   "execution_count": 9,
   "metadata": {},
   "outputs": [
    {
     "name": "stdout",
     "output_type": "stream",
     "text": [
      "Final mu = 3.5318067618659654\n",
      "Final Train MAE = 0.9443588094680871\n",
      "Final Valid MAE = 0.9446140579653872\n"
     ]
    }
   ],
   "source": [
    "final_mu = model.param_dict['mu'][0]\n",
    "print(f\"Final mu = {final_mu}\")\n",
    "print(f\"Final Train MAE = {model.trace_mae_train[-1]}\")\n",
    "print(f\"Final Valid MAE = {model.trace_mae_valid[-1]}\")"
   ]
  },
  {
   "cell_type": "code",
   "execution_count": 10,
   "metadata": {},
   "outputs": [
    {
     "name": "stdout",
     "output_type": "stream",
     "text": [
      "Final Test MAE = 0.9456300136412301\n"
     ]
    }
   ],
   "source": [
    "test_y = test_tuple[2]\n",
    "test_yhat = model.predict(test_tuple[0], test_tuple[1], mu=final_mu)\n",
    "test_mae = ag_np.mean(ag_np.absolute(test_y - test_yhat))\n",
    "print(f\"Final Test MAE = {test_mae}\")"
   ]
  },
  {
   "cell_type": "code",
   "execution_count": 11,
   "metadata": {},
   "outputs": [],
   "source": [
    "epochs = ag_np.array(model.trace_epoch)\n",
    "epochs_of_interest = ag_np.argwhere(epochs >= 2.0)\n",
    "#epochs[epochs_of_interest]"
   ]
  },
  {
   "cell_type": "code",
   "execution_count": 12,
   "metadata": {},
   "outputs": [],
   "source": [
    "train_loss = ag_np.array(model.trace_mae_train)[epochs_of_interest]\n",
    "valid_loss = ag_np.array( model.trace_mae_valid)[epochs_of_interest]"
   ]
  },
  {
   "cell_type": "code",
   "execution_count": 13,
   "metadata": {},
   "outputs": [
    {
     "data": {
      "text/plain": [
       "Text(0.5, 1.0, 'Baseline Model Loss over Epochs, Batch Size = 100')"
      ]
     },
     "execution_count": 13,
     "metadata": {},
     "output_type": "execute_result"
    },
    {
     "data": {
      "image/png": "[encoded data removed]",
      "text/plain": [
       "<Figure size 432x288 with 1 Axes>"
      ]
     },
     "metadata": {
      "needs_background": "light"
     },
     "output_type": "display_data"
    }
   ],
   "source": [
    "plt.plot( epochs[epochs_of_interest], train_loss, 'b.-', label='Train set loss')\n",
    "plt.plot( epochs[epochs_of_interest], valid_loss, 'g.-', label='Validation set loss')\n",
    "plt.legend()\n",
    "plt.xlabel('Epochs')\n",
    "plt.ylabel('MAE Loss')\n",
    "plt.title('Baseline Model Loss over Epochs, Batch Size = 100')"
   ]
  },
  {
   "cell_type": "markdown",
   "metadata": {},
   "source": [
    "## Short answer 1b - closed-form operation applied to the training set to compute the optimal mu value"
   ]
  },
  {
   "cell_type": "code",
   "execution_count": 14,
   "metadata": {},
   "outputs": [
    {
     "data": {
      "text/plain": [
       "3.5305857142857144"
      ]
     },
     "execution_count": 14,
     "metadata": {},
     "output_type": "execute_result"
    }
   ],
   "source": [
    "train_y = train_tuple[2]\n",
    "avg_rating = ag_np.mean(train_y)\n",
    "avg_rating"
   ]
  },
  {
   "cell_type": "code",
   "execution_count": null,
   "metadata": {},
   "outputs": [],
   "source": []
  }
 ],
 "metadata": {
  "kernelspec": {
   "display_name": "Python 3",
   "language": "python",
   "name": "python3"
  },
  "language_info": {
   "codemirror_mode": {
    "name": "ipython",
    "version": 3
   },
   "file_extension": ".py",
   "mimetype": "text/x-python",
   "name": "python",
   "nbconvert_exporter": "python",
   "pygments_lexer": "ipython3",
   "version": "3.8.5"
  }
 },
 "nbformat": 4,
 "nbformat_minor": 4
}
