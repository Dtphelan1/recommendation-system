{
 "cells": [
  {
   "cell_type": "markdown",
   "metadata": {},
   "source": [
    "# Train & Analysis of Baseline Model"
   ]
  },
  {
   "cell_type": "code",
   "execution_count": 15,
   "metadata": {},
   "outputs": [],
   "source": [
    "import autograd.numpy as ag_np\n",
    "\n",
    "# Use helper packages\n",
    "from AbstractBaseCollabFilterSGD import AbstractBaseCollabFilterSGD\n",
    "from train_valid_test_loader import load_train_valid_test_datasets\n",
    "\n",
    "# Some packages you might need (uncomment as necessary)\n",
    "import pandas as pd\n",
    "import matplotlib.pyplot as plt\n",
    "\n",
    "from CollabFilterMeanOnly import CollabFilterMeanOnly"
   ]
  },
  {
   "cell_type": "code",
   "execution_count": 28,
   "metadata": {},
   "outputs": [
    {
     "name": "stdout",
     "output_type": "stream",
     "text": [
      "epoch       0.000 | loss_total    13.63800 | train_MAE     3.53059 | valid_MAE     3.54504 | grad_wrt_mu     7.03040\n",
      "epoch       0.143 | loss_total     9.33072 | train_MAE     2.82755 | valid_MAE     2.84200 | grad_wrt_mu     5.68192\n",
      "epoch       0.286 | loss_total     6.40404 | train_MAE     2.29264 | valid_MAE     2.30556 | grad_wrt_mu     4.53114\n",
      "epoch       0.429 | loss_total     4.49626 | train_MAE     1.89513 | valid_MAE     1.90551 | grad_wrt_mu     3.57311\n",
      "epoch       0.571 | loss_total     3.34473 | train_MAE     1.60017 | valid_MAE     1.60872 | grad_wrt_mu     2.88409\n",
      "epoch       0.714 | loss_total     2.60167 | train_MAE     1.41250 | valid_MAE     1.42006 | grad_wrt_mu     2.33007\n",
      "epoch       0.857 | loss_total     2.13770 | train_MAE     1.26089 | valid_MAE     1.26765 | grad_wrt_mu     1.89066\n",
      "epoch       1.000 | loss_total     1.81930 | train_MAE     1.13787 | valid_MAE     1.14397 | grad_wrt_mu     1.47312\n",
      "epoch       1.143 | loss_total     1.60887 | train_MAE     1.04201 | valid_MAE     1.04761 | grad_wrt_mu     1.19470\n",
      "epoch       1.286 | loss_total     1.48276 | train_MAE     0.99615 | valid_MAE     1.00098 | grad_wrt_mu     0.94656\n",
      "epoch       1.429 | loss_total     1.39611 | train_MAE     0.98578 | valid_MAE     0.98969 | grad_wrt_mu     0.76645\n",
      "epoch       1.571 | loss_total     1.38609 | train_MAE     0.97738 | valid_MAE     0.98054 | grad_wrt_mu     0.60596\n",
      "epoch       1.714 | loss_total     1.33862 | train_MAE     0.97073 | valid_MAE     0.97331 | grad_wrt_mu     0.43877\n",
      "epoch       1.857 | loss_total     1.29009 | train_MAE     0.96592 | valid_MAE     0.96808 | grad_wrt_mu     0.40301\n",
      "epoch       2.000 | loss_total     1.29220 | train_MAE     0.96150 | valid_MAE     0.96327 | grad_wrt_mu     0.32501\n",
      "epoch       2.571 | loss_total     1.29237 | train_MAE     0.95166 | valid_MAE     0.95256 | grad_wrt_mu     0.11410\n",
      "epoch       3.000 | loss_total     1.27363 | train_MAE     0.94778 | valid_MAE     0.94834 | grad_wrt_mu     0.01986\n",
      "epoch       3.571 | loss_total     1.26613 | train_MAE     0.94570 | valid_MAE     0.94608 | grad_wrt_mu     0.02854\n",
      "epoch       4.000 | loss_total     1.26373 | train_MAE     0.94509 | valid_MAE     0.94541 | grad_wrt_mu     0.01422\n",
      "epoch       4.571 | loss_total     1.26609 | train_MAE     0.94462 | valid_MAE     0.94490 | grad_wrt_mu     0.01143\n",
      "epoch       5.000 | loss_total     1.26920 | train_MAE     0.94468 | valid_MAE     0.94497 | grad_wrt_mu     0.01257\n",
      "epoch       5.571 | loss_total     1.26498 | train_MAE     0.94448 | valid_MAE     0.94475 | grad_wrt_mu     0.01655\n",
      "epoch       6.000 | loss_total     1.27054 | train_MAE     0.94458 | valid_MAE     0.94486 | grad_wrt_mu     0.00314\n",
      "epoch       6.571 | loss_total     1.26945 | train_MAE     0.94430 | valid_MAE     0.94455 | grad_wrt_mu     0.04293\n",
      "epoch       7.000 | loss_total     1.26407 | train_MAE     0.94446 | valid_MAE     0.94473 | grad_wrt_mu     0.01048\n",
      "epoch       7.571 | loss_total     1.26729 | train_MAE     0.94455 | valid_MAE     0.94482 | grad_wrt_mu     0.02029\n",
      "epoch       8.000 | loss_total     1.26691 | train_MAE     0.94442 | valid_MAE     0.94468 | grad_wrt_mu     0.01636\n",
      "epoch       9.000 | loss_total     1.27040 | train_MAE     0.94428 | valid_MAE     0.94453 | grad_wrt_mu     0.00684\n",
      "epoch       9.857 | loss_total     1.26740 | train_MAE     0.94432 | valid_MAE     0.94457 | grad_wrt_mu     0.00096\n"
     ]
    }
   ],
   "source": [
    "# Load the dataset\n",
    "train_tuple, valid_tuple, test_tuple, n_users, n_items = \\\n",
    "    load_train_valid_test_datasets()\n",
    "# Create the model and initialize its parameters\n",
    "# to have right scale as the dataset (right num users and items)\n",
    "model = CollabFilterMeanOnly(\n",
    "    n_epochs=10, batch_size=10000, step_size=0.1)\n",
    "model.init_parameter_dict(n_users, n_items, train_tuple)\n",
    "\n",
    "# Fit the model with SGD\n",
    "model.fit(train_tuple, valid_tuple)"
   ]
  },
  {
   "cell_type": "code",
   "execution_count": 29,
   "metadata": {},
   "outputs": [
    {
     "name": "stdout",
     "output_type": "stream",
     "text": [
      "Final mu = 3.531814950092181\n",
      "Final Train MAE = 0.9443227255891536\n",
      "Final Valid MAE = 0.9445747922700812\n"
     ]
    }
   ],
   "source": [
    "final_mu = model.param_dict['mu'][0]\n",
    "print(f\"Final mu = {final_mu}\")\n",
    "print(f\"Final Train MAE = {model.trace_mae_train[-1]}\")\n",
    "print(f\"Final Valid MAE = {model.trace_mae_valid[-1]}\")"
   ]
  },
  {
   "cell_type": "code",
   "execution_count": 30,
   "metadata": {},
   "outputs": [
    {
     "name": "stdout",
     "output_type": "stream",
     "text": [
      "Final Test MAE = 0.9456293520325518\n"
     ]
    }
   ],
   "source": [
    "test_y = test_tuple[2]\n",
    "test_yhat = model.predict(test_tuple[0], test_tuple[1], mu=final_mu)\n",
    "test_mae = ag_np.mean(ag_np.absolute(test_y - test_yhat))\n",
    "print(f\"Final Test MAE = {test_mae}\")"
   ]
  },
  {
   "cell_type": "code",
   "execution_count": 31,
   "metadata": {},
   "outputs": [],
   "source": [
    "epochs = ag_np.array(model.trace_epoch)\n",
    "epochs_of_interest = ag_np.argwhere(epochs >= 2.0)\n",
    "# epochs[epochs_of_interest]"
   ]
  },
  {
   "cell_type": "code",
   "execution_count": 32,
   "metadata": {},
   "outputs": [],
   "source": [
    "train_loss = ag_np.array(model.trace_mae_train)[epochs_of_interest]\n",
    "valid_loss = ag_np.array( model.trace_mae_valid)[epochs_of_interest]"
   ]
  },
  {
   "cell_type": "code",
   "execution_count": 33,
   "metadata": {},
   "outputs": [
    {
     "data": {
      "text/plain": [
       "Text(0.5, 1.0, 'Baseline Model Loss over Epochs, Batch Size = 10000')"
      ]
     },
     "execution_count": 33,
     "metadata": {},
     "output_type": "execute_result"
    },
    {
     "data": {
      "image/png": "[encoded data removed]",
      "text/plain": [
       "<Figure size 432x288 with 1 Axes>"
      ]
     },
     "metadata": {
      "needs_background": "light"
     },
     "output_type": "display_data"
    }
   ],
   "source": [
    "plt.plot( epochs[epochs_of_interest], train_loss, 'b.-', label='Train set loss')\n",
    "plt.plot( epochs[epochs_of_interest], valid_loss, 'g.-', label='Validation set loss')\n",
    "plt.legend()\n",
    "plt.xlabel('Epochs')\n",
    "plt.ylabel('MAE Loss')\n",
    "plt.title('Baseline Model Loss over Epochs, Batch Size = 10000')"
   ]
  },
  {
   "cell_type": "markdown",
   "metadata": {},
   "source": [
    "## Baseline Model, Batch size = 100"
   ]
  },
  {
   "cell_type": "code",
   "execution_count": 34,
   "metadata": {},
   "outputs": [
    {
     "name": "stdout",
     "output_type": "stream",
     "text": [
      "epoch       0.000 | loss_total    13.41000 | train_MAE     3.53059 | valid_MAE     3.54504 | grad_wrt_mu     7.02000\n",
      "epoch       0.001 | loss_total     9.65436 | train_MAE     2.82859 | valid_MAE     2.84304 | grad_wrt_mu     5.81600\n",
      "epoch       0.003 | loss_total     6.51272 | train_MAE     2.28179 | valid_MAE     2.29464 | grad_wrt_mu     4.57280\n",
      "epoch       0.004 | loss_total     4.21487 | train_MAE     1.88062 | valid_MAE     1.89091 | grad_wrt_mu     3.55824\n",
      "epoch       0.126 | loss_total     1.22742 | train_MAE     0.95181 | valid_MAE     0.95272 | grad_wrt_mu     0.51310\n",
      "epoch       0.250 | loss_total     1.14284 | train_MAE     0.93184 | valid_MAE     0.93099 | grad_wrt_mu     0.37114\n",
      "epoch       0.376 | loss_total     1.27709 | train_MAE     0.94347 | valid_MAE     0.94365 | grad_wrt_mu     0.21898\n",
      "epoch       0.500 | loss_total     1.54991 | train_MAE     0.94859 | valid_MAE     0.94922 | grad_wrt_mu     0.00558\n",
      "epoch       0.626 | loss_total     0.87029 | train_MAE     0.94674 | valid_MAE     0.94721 | grad_wrt_mu     0.03931\n",
      "epoch       0.750 | loss_total     1.25028 | train_MAE     0.94792 | valid_MAE     0.94849 | grad_wrt_mu     0.26212\n",
      "epoch       0.876 | loss_total     1.41319 | train_MAE     0.94081 | valid_MAE     0.94075 | grad_wrt_mu     0.42748\n",
      "epoch       1.000 | loss_total     1.35717 | train_MAE     0.93955 | valid_MAE     0.93938 | grad_wrt_mu     0.17048\n",
      "epoch       1.126 | loss_total     1.03875 | train_MAE     0.94179 | valid_MAE     0.94181 | grad_wrt_mu     0.15029\n",
      "epoch       1.250 | loss_total     1.08762 | train_MAE     0.94598 | valid_MAE     0.94638 | grad_wrt_mu     0.12680\n",
      "epoch       1.376 | loss_total     1.28960 | train_MAE     0.94579 | valid_MAE     0.94617 | grad_wrt_mu     0.00326\n",
      "epoch       1.500 | loss_total     1.22329 | train_MAE     0.94564 | valid_MAE     0.94601 | grad_wrt_mu     0.32056\n",
      "epoch       1.626 | loss_total     1.42648 | train_MAE     0.94218 | valid_MAE     0.94225 | grad_wrt_mu     0.01755\n",
      "epoch       1.750 | loss_total     1.26247 | train_MAE     0.95512 | valid_MAE     0.95632 | grad_wrt_mu     0.25354\n",
      "epoch       1.876 | loss_total     1.25525 | train_MAE     0.93502 | valid_MAE     0.93445 | grad_wrt_mu     0.33315\n",
      "epoch       2.000 | loss_total     1.22736 | train_MAE     0.94664 | valid_MAE     0.94709 | grad_wrt_mu     0.23881\n",
      "epoch       2.500 | loss_total     1.27124 | train_MAE     0.93952 | valid_MAE     0.93934 | grad_wrt_mu     0.12888\n",
      "epoch       3.000 | loss_total     1.26899 | train_MAE     0.94454 | valid_MAE     0.94481 | grad_wrt_mu     0.04058\n",
      "epoch       3.500 | loss_total     1.26829 | train_MAE     0.94665 | valid_MAE     0.94710 | grad_wrt_mu     0.11896\n",
      "epoch       4.000 | loss_total     1.26901 | train_MAE     0.94886 | valid_MAE     0.94951 | grad_wrt_mu     0.15937\n",
      "epoch       4.500 | loss_total     1.26713 | train_MAE     0.94287 | valid_MAE     0.94299 | grad_wrt_mu     0.40999\n",
      "epoch       5.000 | loss_total     1.26869 | train_MAE     0.94802 | valid_MAE     0.94860 | grad_wrt_mu     0.22407\n",
      "epoch       5.500 | loss_total     1.27005 | train_MAE     0.94547 | valid_MAE     0.94582 | grad_wrt_mu     0.37744\n",
      "epoch       6.000 | loss_total     1.26891 | train_MAE     0.95336 | valid_MAE     0.95441 | grad_wrt_mu     0.42149\n",
      "epoch       6.500 | loss_total     1.27142 | train_MAE     0.94572 | valid_MAE     0.94610 | grad_wrt_mu     0.20211\n",
      "epoch       7.000 | loss_total     1.26863 | train_MAE     0.94954 | valid_MAE     0.95025 | grad_wrt_mu     0.29171\n",
      "epoch       7.500 | loss_total     1.26637 | train_MAE     0.94458 | valid_MAE     0.94486 | grad_wrt_mu     0.13871\n",
      "epoch       8.000 | loss_total     1.26882 | train_MAE     0.94560 | valid_MAE     0.94596 | grad_wrt_mu     0.37981\n",
      "epoch       9.000 | loss_total     1.26953 | train_MAE     0.93868 | valid_MAE     0.93844 | grad_wrt_mu     0.28634\n",
      "epoch       9.999 | loss_total     1.26916 | train_MAE     0.94311 | valid_MAE     0.94325 | grad_wrt_mu     0.39436\n"
     ]
    }
   ],
   "source": [
    "# Load the dataset\n",
    "train_tuple, valid_tuple, test_tuple, n_users, n_items = \\\n",
    "    load_train_valid_test_datasets()\n",
    "# Create the model and initialize its parameters\n",
    "# to have right scale as the dataset (right num users and items)\n",
    "model = CollabFilterMeanOnly(\n",
    "    n_epochs=10, batch_size=100, step_size=0.1)\n",
    "model.init_parameter_dict(n_users, n_items, train_tuple)\n",
    "\n",
    "# Fit the model with SGD\n",
    "model.fit(train_tuple, valid_tuple)"
   ]
  },
  {
   "cell_type": "code",
   "execution_count": 35,
   "metadata": {},
   "outputs": [
    {
     "name": "stdout",
     "output_type": "stream",
     "text": [
      "Final mu = 3.5822567910722225\n",
      "Final Train MAE = 0.9431055961662814\n",
      "Final Valid MAE = 0.9432503384009596\n"
     ]
    }
   ],
   "source": [
    "final_mu = model.param_dict['mu'][0]\n",
    "print(f\"Final mu = {final_mu}\")\n",
    "print(f\"Final Train MAE = {model.trace_mae_train[-1]}\")\n",
    "print(f\"Final Valid MAE = {model.trace_mae_valid[-1]}\")"
   ]
  },
  {
   "cell_type": "code",
   "execution_count": 36,
   "metadata": {},
   "outputs": [
    {
     "name": "stdout",
     "output_type": "stream",
     "text": [
      "Final Test MAE = 0.9415536512813646\n"
     ]
    }
   ],
   "source": [
    "test_y = test_tuple[2]\n",
    "test_yhat = model.predict(test_tuple[0], test_tuple[1], mu=final_mu)\n",
    "test_mae = ag_np.mean(ag_np.absolute(test_y - test_yhat))\n",
    "print(f\"Final Test MAE = {test_mae}\")"
   ]
  },
  {
   "cell_type": "code",
   "execution_count": 37,
   "metadata": {},
   "outputs": [],
   "source": [
    "epochs = ag_np.array(model.trace_epoch)\n",
    "epochs_of_interest = ag_np.argwhere(epochs >= 2.0)\n",
    "#epochs[epochs_of_interest]"
   ]
  },
  {
   "cell_type": "code",
   "execution_count": 38,
   "metadata": {},
   "outputs": [],
   "source": [
    "train_loss = ag_np.array(model.trace_mae_train)[epochs_of_interest]\n",
    "valid_loss = ag_np.array( model.trace_mae_valid)[epochs_of_interest]"
   ]
  },
  {
   "cell_type": "code",
   "execution_count": 39,
   "metadata": {},
   "outputs": [
    {
     "data": {
      "text/plain": [
       "Text(0.5, 1.0, 'Baseline Model Loss over Epochs, Batch Size = 100')"
      ]
     },
     "execution_count": 39,
     "metadata": {},
     "output_type": "execute_result"
    },
    {
     "data": {
      "image/png": "[encoded data removed]",
      "text/plain": [
       "<Figure size 432x288 with 1 Axes>"
      ]
     },
     "metadata": {
      "needs_background": "light"
     },
     "output_type": "display_data"
    }
   ],
   "source": [
    "plt.plot( epochs[epochs_of_interest], train_loss, 'b.-', label='Train set loss')\n",
    "plt.plot( epochs[epochs_of_interest], valid_loss, 'g.-', label='Validation set loss')\n",
    "plt.legend()\n",
    "plt.xlabel('Epochs')\n",
    "plt.ylabel('MAE Loss')\n",
    "plt.title('Baseline Model Loss over Epochs, Batch Size = 100')"
   ]
  },
  {
   "cell_type": "markdown",
   "metadata": {},
   "source": [
    "## Short answer 1b - closed-form operation applied to the training set to compute the optimal mu value"
   ]
  },
  {
   "cell_type": "code",
   "execution_count": 14,
   "metadata": {},
   "outputs": [
    {
     "data": {
      "text/plain": [
       "3.5305857142857144"
      ]
     },
     "execution_count": 14,
     "metadata": {},
     "output_type": "execute_result"
    }
   ],
   "source": [
    "train_y = train_tuple[2]\n",
    "avg_rating = ag_np.mean(train_y)\n",
    "avg_rating"
   ]
  },
  {
   "cell_type": "code",
   "execution_count": null,
   "metadata": {},
   "outputs": [],
   "source": []
  }
 ],
 "metadata": {
  "kernelspec": {
   "display_name": "Python 3",
   "language": "python",
   "name": "python3"
  },
  "language_info": {
   "codemirror_mode": {
    "name": "ipython",
    "version": 3
   },
   "file_extension": ".py",
   "mimetype": "text/x-python",
   "name": "python",
   "nbconvert_exporter": "python",
   "pygments_lexer": "ipython3",
   "version": "3.8.5"
  }
 },
 "nbformat": 4,
 "nbformat_minor": 4
}
